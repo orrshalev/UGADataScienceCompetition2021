{
 "cells": [
  {
   "cell_type": "markdown",
   "metadata": {
    "id": "TW6wRpPNL702"
   },
   "source": [
    "# Credit Default Prediction: Code Notebook with Annotations\n",
    "*Code is in Python using Jupyter Notebook* \\\n",
    "*Exported using LaTex* \\\n",
    "*(n) indicates code reference was used, go to code references at the bottom to find references with links*"
   ]
  },
  {
   "cell_type": "markdown",
   "metadata": {
    "id": "2VOA70_4MPUQ"
   },
   "source": [
    "#**Table of contents**\n",
    "\n",
    "---\n",
    "\n",
    "## 1. [Exploratory Data Analysis](#sect1)\n",
    "* first look at data\n",
    "* comparing defaulting and non-defaulting population\n",
    "* basic graphing of data\n",
    "* testing validity of data\n",
    "* checking for problems that need to be addressed before fitting models\n",
    "\n",
    "## 2. [Data Preprocessing - Logistic Regression](#sect2)\n",
    "* variable selection\n",
    "* reducing collinearity in explanatory variables\n",
    "* Normalization of data\n",
    "\n",
    "## 3. [Model Building and Testing - Logistic Regression](#sect3)\n",
    "* Hyperparameter tuning\n",
    "* Building and testing model\n",
    "* Interpreation of model\n",
    "\n",
    "## 4. [Data Preprocessing - Random Forests](#sect4)\n",
    "* variable selection\n",
    "* missing value imputation\n",
    "\n",
    "## 5. [Model Building and Testing - Random Forests](#sect5)\n",
    "* Hyperparameter tuning\n",
    "* Building and testing model\n",
    "* Interpreation of model\n",
    "\n",
    "## 6. [Comparing Models](#sect6)\n",
    "* ROC curve comparison\n",
    "\n",
    "## 7. [Code References](#sect7)\n",
    "* giving credit to people who helped us develop our code"
   ]
  },
  {
   "cell_type": "markdown",
   "metadata": {
    "id": "4J6CN-3cU0ia"
   },
   "source": [
    "#  **Exploratory Data Analysis** <a name=\"sect1\"></a>"
   ]
  },
  {
   "cell_type": "markdown",
   "metadata": {
    "id": "vw_VIluOcv2I"
   },
   "source": [
    "Importing packages used in our analysis: \\\n",
    "Numpy for scientific computing \\\n",
    "Pandas for dealing with data tables \\\n",
    "Matplotlib and seaborn for visualization \\\n",
    "Statsmodels for calculating multicollinearity \\\n",
    "Sklearn for building models and model interpretation, hyperparameter tuning \\\n",
    "Autoimpute for imputation"
   ]
  },
  {
   "cell_type": "code",
   "execution_count": 230,
   "metadata": {
    "colab": {
     "base_uri": "https://localhost:8080/"
    },
    "id": "jOpUu_GGc8d4",
    "outputId": "621e1c6b-8d2c-4944-8ae4-d3234cfa8f22"
   },
   "outputs": [],
   "source": [
    "import numpy as np\n",
    "import pandas as pd\n",
    "import matplotlib.pyplot as plt\n",
    "import seaborn as sn\n",
    "from statsmodels.stats.outliers_influence import variance_inflation_factor\n",
    "from sklearn.model_selection import RepeatedStratifiedKFold, GridSearchCV, learning_curve, ShuffleSplit\n",
    "from sklearn.linear_model import LogisticRegression\n",
    "from sklearn.metrics import classification_report, confusion_matrix\n",
    "from sklearn.ensemble import RandomForestClassifier\n",
    "from sklearn.metrics import roc_curve, roc_auc_score\n",
    "from autoimpute.imputations import SingleImputer"
   ]
  },
  {
   "cell_type": "markdown",
   "metadata": {
    "id": "ilSBU8-Za9qg"
   },
   "source": [
    "Importing all of our data sets:"
   ]
  },
  {
   "cell_type": "code",
   "execution_count": 235,
   "metadata": {
    "colab": {
     "base_uri": "https://localhost:8080/"
    },
    "id": "bTAJgS5kcVEf",
    "outputId": "aad829d4-5ef4-4725-ab63-fc77b60c3fe2"
   },
   "outputs": [],
   "source": [
    "df_test = pd.read_csv('Simulated_Data_Test.csv')\n",
    "df_train = pd.read_csv('Simulated_Data_Train.csv')\n",
    "df_validation = pd.read_csv('Simulated_Data_Validation.csv')"
   ]
  },
  {
   "cell_type": "markdown",
   "metadata": {
    "id": "Vh0c5z3sbm5w"
   },
   "source": [
    "The first thing is to just get a basic summary of the train data we were given by looking at the raw data. \\\n",
    "\\\n",
    "As we can see below, all variables except for state are of type float, and upon first glance it seems that the train data has imported correctly."
   ]
  },
  {
   "cell_type": "code",
   "execution_count": 240,
   "metadata": {
    "colab": {
     "base_uri": "https://localhost:8080/"
    },
    "id": "kwr2awMCcBE0",
    "outputId": "7ea4d191-9cf5-4508-a5d3-9c7f8bc1ddec"
   },
   "outputs": [
    {
     "name": "stdout",
     "output_type": "stream",
     "text": [
      "<bound method NDFrame.sample of        tot_credit_debt  avg_card_debt  credit_age  credit_good_age  card_age  \\\n",
      "0             80826.71       15872.99       300.0            114.0     292.0   \n",
      "1             96052.60       12178.02       281.0            102.0     232.0   \n",
      "2             75212.76       12052.24       261.0            149.0     260.0   \n",
      "3             70727.84        8416.80       227.0             93.0     223.0   \n",
      "4             41604.47       10611.97       249.0            136.0     241.0   \n",
      "...                ...            ...         ...              ...       ...   \n",
      "19995        104765.01       13905.40       182.0             84.0     165.0   \n",
      "19996         83990.07       10325.02       320.0            129.0     280.0   \n",
      "19997        107606.69       17838.79       290.0            168.0     271.0   \n",
      "19998         78787.72       11447.61       208.0            104.0     194.0   \n",
      "19999         78296.90       10053.16       348.0            175.0     299.0   \n",
      "\n",
      "       non_mtg_acc_past_due_12_months_num  non_mtg_acc_past_due_6_months_num  \\\n",
      "0                                     0.0                                0.0   \n",
      "1                                     0.0                                0.0   \n",
      "2                                     0.0                                0.0   \n",
      "3                                     2.0                                1.0   \n",
      "4                                     0.0                                0.0   \n",
      "...                                   ...                                ...   \n",
      "19995                                 0.0                                0.0   \n",
      "19996                                 0.0                                0.0   \n",
      "19997                                 1.0                                0.0   \n",
      "19998                                 0.0                                0.0   \n",
      "19999                                 0.0                                0.0   \n",
      "\n",
      "       mortgages_past_due_6_months_num  credit_past_due_amount  \\\n",
      "0                                  0.0                    0.00   \n",
      "1                                  0.0                    0.00   \n",
      "2                                  0.0                    0.00   \n",
      "3                                  1.0                11013.96   \n",
      "4                                  0.0                    0.00   \n",
      "...                                ...                     ...   \n",
      "19995                              0.0                    0.00   \n",
      "19996                              0.0                    0.00   \n",
      "19997                              0.0                    0.00   \n",
      "19998                              0.0                    0.00   \n",
      "19999                              0.0                    0.00   \n",
      "\n",
      "       inq_12_month_num  ...  card_open_36_month_num  auto_open_ 36_month_num  \\\n",
      "0                   3.0  ...                     0.0                      0.0   \n",
      "1                   2.0  ...                     1.0                      0.0   \n",
      "2                   1.0  ...                     0.0                      1.0   \n",
      "3                   0.0  ...                     1.0                      0.0   \n",
      "4                   0.0  ...                     0.0                      0.0   \n",
      "...                 ...  ...                     ...                      ...   \n",
      "19995               4.0  ...                     0.0                      0.0   \n",
      "19996               0.0  ...                     0.0                      0.0   \n",
      "19997               3.0  ...                     0.0                      1.0   \n",
      "19998               1.0  ...                     0.0                      0.0   \n",
      "19999               2.0  ...                     0.0                      0.0   \n",
      "\n",
      "       uti_card  uti_50plus_pct  uti_max_credit_line  uti_card_50plus_pct  \\\n",
      "0      0.365902        0.475594             0.410504                  NaN   \n",
      "1      0.542786        0.543158             0.535147             0.587351   \n",
      "2      0.323678        0.321776             0.348713             0.413293   \n",
      "3      0.448721        0.422809             0.491365             0.466810   \n",
      "4      0.644030        0.619987             0.546655             0.588442   \n",
      "...         ...             ...                  ...                  ...   \n",
      "19995  0.437699        0.557576             0.472592             0.481113   \n",
      "19996  0.637746        0.484714             0.734825                  NaN   \n",
      "19997  0.486259        0.563475             0.406215             0.463120   \n",
      "19998  0.299035        0.283815             0.255758             0.281647   \n",
      "19999  0.574453        0.540931             0.540706             0.512513   \n",
      "\n",
      "       ind_acc_XYZ  rep_income  States Default_ind  \n",
      "0              0.0     69000.0      AL         0.0  \n",
      "1              0.0     61000.0      FL         0.0  \n",
      "2              0.0         NaN      AL         0.0  \n",
      "3              0.0     79000.0      SC         1.0  \n",
      "4              1.0         NaN      LA         0.0  \n",
      "...            ...         ...     ...         ...  \n",
      "19995          1.0         NaN      GA         0.0  \n",
      "19996          0.0     87000.0      NC         0.0  \n",
      "19997          0.0     63000.0      SC         0.0  \n",
      "19998          0.0     71000.0      AL         0.0  \n",
      "19999          0.0     85000.0      AL         0.0  \n",
      "\n",
      "[20000 rows x 21 columns]>\n",
      "tot_credit_debt                       float64\n",
      "avg_card_debt                         float64\n",
      "credit_age                            float64\n",
      "credit_good_age                       float64\n",
      "card_age                              float64\n",
      "non_mtg_acc_past_due_12_months_num    float64\n",
      "non_mtg_acc_past_due_6_months_num     float64\n",
      "mortgages_past_due_6_months_num       float64\n",
      "credit_past_due_amount                float64\n",
      "inq_12_month_num                      float64\n",
      "card_inq_24_month_num                 float64\n",
      "card_open_36_month_num                float64\n",
      "auto_open_ 36_month_num               float64\n",
      "uti_card                              float64\n",
      "uti_50plus_pct                        float64\n",
      "uti_max_credit_line                   float64\n",
      "uti_card_50plus_pct                   float64\n",
      "ind_acc_XYZ                           float64\n",
      "rep_income                            float64\n",
      "States                                 object\n",
      "Default_ind                           float64\n",
      "dtype: object\n"
     ]
    }
   ],
   "source": [
    "print(df_train.sample)\n",
    "print(df_train.dtypes)"
   ]
  },
  {
   "cell_type": "markdown",
   "metadata": {},
   "source": [
    "Before we get ahead of ourselves, we want to check that there is nothing wrong with the test and validation datasets when compared to the train dataset. \\\n",
    "\\\n",
    "Everything seems to be in order: correct data types, same number of variables, nothing seems out of the ordinary."
   ]
  },
  {
   "cell_type": "code",
   "execution_count": 236,
   "metadata": {},
   "outputs": [
    {
     "name": "stdout",
     "output_type": "stream",
     "text": [
      "<bound method NDFrame.sample of       tot_credit_debt  avg_card_debt  credit_age  credit_good_age  card_age  \\\n",
      "0            63651.27        9019.99       484.0            242.0     395.0   \n",
      "1           105559.29       16692.19       212.0            118.0     211.0   \n",
      "2            96062.99       10509.13       255.0            123.0     180.0   \n",
      "3            84417.40       13873.96       330.0            175.0     328.0   \n",
      "4           100623.91       15592.09       207.0            101.0     128.0   \n",
      "...               ...            ...         ...              ...       ...   \n",
      "2995         90748.88       11481.81       274.0            161.0     268.0   \n",
      "2996        101930.98       15242.30       243.0            161.0     213.0   \n",
      "2997         74738.73       12175.49       351.0            179.0     271.0   \n",
      "2998        120357.58       14477.70       308.0            178.0     298.0   \n",
      "2999         74240.17       11873.45       341.0            181.0     333.0   \n",
      "\n",
      "      non_mtg_acc_past_due_12_months_num  non_mtg_acc_past_due_6_months_num  \\\n",
      "0                                    0.0                                0.0   \n",
      "1                                    0.0                                0.0   \n",
      "2                                    0.0                                0.0   \n",
      "3                                    0.0                                0.0   \n",
      "4                                    0.0                                0.0   \n",
      "...                                  ...                                ...   \n",
      "2995                                 0.0                                0.0   \n",
      "2996                                 0.0                                0.0   \n",
      "2997                                 0.0                                0.0   \n",
      "2998                                 0.0                                0.0   \n",
      "2999                                 0.0                                0.0   \n",
      "\n",
      "      mortgages_past_due_6_months_num  credit_past_due_amount  \\\n",
      "0                                 0.0                     0.0   \n",
      "1                                 0.0                     0.0   \n",
      "2                                 0.0                     0.0   \n",
      "3                                 0.0                     0.0   \n",
      "4                                 0.0                     0.0   \n",
      "...                               ...                     ...   \n",
      "2995                              0.0                     0.0   \n",
      "2996                              0.0                     0.0   \n",
      "2997                              0.0                     0.0   \n",
      "2998                              0.0                     0.0   \n",
      "2999                              0.0                     0.0   \n",
      "\n",
      "      inq_12_month_num  ...  card_open_36_month_num  auto_open_ 36_month_num  \\\n",
      "0                  0.0  ...                     0.0                      0.0   \n",
      "1                  4.0  ...                     0.0                      1.0   \n",
      "2                  2.0  ...                     0.0                      0.0   \n",
      "3                  1.0  ...                     0.0                      0.0   \n",
      "4                  6.0  ...                     0.0                      0.0   \n",
      "...                ...  ...                     ...                      ...   \n",
      "2995               0.0  ...                     0.0                      1.0   \n",
      "2996               2.0  ...                     0.0                      1.0   \n",
      "2997               2.0  ...                     0.0                      0.0   \n",
      "2998               2.0  ...                     0.0                      1.0   \n",
      "2999               4.0  ...                     1.0                      1.0   \n",
      "\n",
      "      uti_card  uti_50plus_pct  uti_max_credit_line  uti_card_50plus_pct  \\\n",
      "0     0.619761        0.624652             0.506910             0.530109   \n",
      "1     0.428082        0.533489             0.340476             0.388792   \n",
      "2     0.437217        0.422643             0.418459             0.450523   \n",
      "3     0.651360        0.566563             0.399319             0.562153   \n",
      "4     0.586265        0.504849             0.652576             0.576409   \n",
      "...        ...             ...                  ...                  ...   \n",
      "2995  0.573039        0.665278             0.638087             0.559056   \n",
      "2996  0.582873        0.662823             0.408222             0.564803   \n",
      "2997  0.735002        0.586252             0.527243             0.651801   \n",
      "2998  0.478272        0.545468             0.531942             0.557991   \n",
      "2999  0.702814        0.658051             0.680245             0.736850   \n",
      "\n",
      "      ind_acc_XYZ  rep_income  States Default_ind  \n",
      "0             0.0     66000.0      FL         1.0  \n",
      "1             0.0     55000.0      MS         0.0  \n",
      "2             0.0     86000.0      MS         0.0  \n",
      "3             0.0    110000.0      MS         0.0  \n",
      "4             1.0         NaN      NC         0.0  \n",
      "...           ...         ...     ...         ...  \n",
      "2995          0.0     76000.0      FL         0.0  \n",
      "2996          0.0     65000.0      AL         0.0  \n",
      "2997          0.0     85000.0      LA         0.0  \n",
      "2998          1.0         NaN      NC         0.0  \n",
      "2999          0.0     47000.0      MS         0.0  \n",
      "\n",
      "[3000 rows x 21 columns]>\n",
      "tot_credit_debt                       float64\n",
      "avg_card_debt                         float64\n",
      "credit_age                            float64\n",
      "credit_good_age                       float64\n",
      "card_age                              float64\n",
      "non_mtg_acc_past_due_12_months_num    float64\n",
      "non_mtg_acc_past_due_6_months_num     float64\n",
      "mortgages_past_due_6_months_num       float64\n",
      "credit_past_due_amount                float64\n",
      "inq_12_month_num                      float64\n",
      "card_inq_24_month_num                 float64\n",
      "card_open_36_month_num                float64\n",
      "auto_open_ 36_month_num               float64\n",
      "uti_card                              float64\n",
      "uti_50plus_pct                        float64\n",
      "uti_max_credit_line                   float64\n",
      "uti_card_50plus_pct                   float64\n",
      "ind_acc_XYZ                           float64\n",
      "rep_income                            float64\n",
      "States                                 object\n",
      "Default_ind                           float64\n",
      "dtype: object\n"
     ]
    }
   ],
   "source": [
    "print(df_validation.sample)\n",
    "print(df_validation.dtypes)"
   ]
  },
  {
   "cell_type": "code",
   "execution_count": 238,
   "metadata": {},
   "outputs": [
    {
     "name": "stdout",
     "output_type": "stream",
     "text": [
      "<bound method NDFrame.sample of       tot_credit_debt  avg_card_debt  credit_age  credit_good_age  card_age  \\\n",
      "0            40477.81        7766.64       322.0            181.0     235.0   \n",
      "1           106760.98       16606.98       323.0            144.0     273.0   \n",
      "2           121428.34       13910.13       361.0            189.0     350.0   \n",
      "3            96515.05       15436.78       344.0            203.0     343.0   \n",
      "4           123760.22       14213.25       370.0            177.0     347.0   \n",
      "...               ...            ...         ...              ...       ...   \n",
      "4995         90788.44       11646.36       203.0             80.0     180.0   \n",
      "4996         91052.81       16505.20       291.0            122.0     285.0   \n",
      "4997         71061.71       11512.18       348.0            191.0     303.0   \n",
      "4998         82162.45       10014.90       357.0            163.0     339.0   \n",
      "4999        116943.32       18042.56       192.0             99.0     189.0   \n",
      "\n",
      "      non_mtg_acc_past_due_12_months_num  non_mtg_acc_past_due_6_months_num  \\\n",
      "0                                    0.0                                0.0   \n",
      "1                                    0.0                                0.0   \n",
      "2                                    0.0                                0.0   \n",
      "3                                    0.0                                0.0   \n",
      "4                                    0.0                                0.0   \n",
      "...                                  ...                                ...   \n",
      "4995                                 0.0                                0.0   \n",
      "4996                                 0.0                                0.0   \n",
      "4997                                 0.0                                0.0   \n",
      "4998                                 0.0                                0.0   \n",
      "4999                                 0.0                                0.0   \n",
      "\n",
      "      mortgages_past_due_6_months_num  credit_past_due_amount  \\\n",
      "0                                 0.0                     0.0   \n",
      "1                                 0.0                     0.0   \n",
      "2                                 0.0                     0.0   \n",
      "3                                 0.0                     0.0   \n",
      "4                                 0.0                     0.0   \n",
      "...                               ...                     ...   \n",
      "4995                              0.0                     0.0   \n",
      "4996                              0.0                     0.0   \n",
      "4997                              0.0                     0.0   \n",
      "4998                              0.0                     0.0   \n",
      "4999                              0.0                     0.0   \n",
      "\n",
      "      inq_12_month_num  ...  card_open_36_month_num  auto_open_ 36_month_num  \\\n",
      "0                  2.0  ...                     0.0                      1.0   \n",
      "1                  2.0  ...                     0.0                      0.0   \n",
      "2                  0.0  ...                     0.0                      0.0   \n",
      "3                  0.0  ...                     0.0                      0.0   \n",
      "4                  0.0  ...                     0.0                      0.0   \n",
      "...                ...  ...                     ...                      ...   \n",
      "4995               0.0  ...                     0.0                      0.0   \n",
      "4996               3.0  ...                     0.0                      0.0   \n",
      "4997               3.0  ...                     1.0                      1.0   \n",
      "4998               1.0  ...                     0.0                      0.0   \n",
      "4999               4.0  ...                     1.0                      0.0   \n",
      "\n",
      "      uti_card  uti_50plus_pct  uti_max_credit_line  uti_card_50plus_pct  \\\n",
      "0     0.588301        0.711887             0.538456             0.633699   \n",
      "1     0.707799        0.739732             0.562194             0.746901   \n",
      "2     0.479711        0.434104             0.374705             0.458438   \n",
      "3     0.443710        0.474768             0.372028             0.582352   \n",
      "4     0.571004        0.472634             0.605137             0.577697   \n",
      "...        ...             ...                  ...                  ...   \n",
      "4995  0.444254        0.629877             0.496559             0.398411   \n",
      "4996  0.330706        0.353832             0.485601             0.286623   \n",
      "4997  0.469755        0.478526             0.460937             0.443688   \n",
      "4998  0.089534        0.259846             0.127144             0.178131   \n",
      "4999  0.575263        0.593724             0.626940             0.503552   \n",
      "\n",
      "      ind_acc_XYZ  rep_income  States Default_ind  \n",
      "0             0.0     26000.0      FL         0.0  \n",
      "1             1.0     47000.0      AL         0.0  \n",
      "2             0.0     71000.0      MS         0.0  \n",
      "3             1.0     68000.0      AL         0.0  \n",
      "4             0.0     76000.0      GA         0.0  \n",
      "...           ...         ...     ...         ...  \n",
      "4995          0.0     94000.0      LA         0.0  \n",
      "4996          1.0     73000.0      SC         0.0  \n",
      "4997          1.0     94000.0      LA         0.0  \n",
      "4998          0.0     70000.0      MS         0.0  \n",
      "4999          0.0    111000.0      MS         0.0  \n",
      "\n",
      "[5000 rows x 21 columns]>\n",
      "tot_credit_debt                       float64\n",
      "avg_card_debt                         float64\n",
      "credit_age                            float64\n",
      "credit_good_age                       float64\n",
      "card_age                              float64\n",
      "non_mtg_acc_past_due_12_months_num    float64\n",
      "non_mtg_acc_past_due_6_months_num     float64\n",
      "mortgages_past_due_6_months_num       float64\n",
      "credit_past_due_amount                float64\n",
      "inq_12_month_num                      float64\n",
      "card_inq_24_month_num                 float64\n",
      "card_open_36_month_num                float64\n",
      "auto_open_ 36_month_num               float64\n",
      "uti_card                              float64\n",
      "uti_50plus_pct                        float64\n",
      "uti_max_credit_line                   float64\n",
      "uti_card_50plus_pct                   float64\n",
      "ind_acc_XYZ                           float64\n",
      "rep_income                            float64\n",
      "States                                 object\n",
      "Default_ind                           float64\n",
      "dtype: object\n"
     ]
    }
   ],
   "source": [
    "print(df_test.sample)\n",
    "print(df_test.dtypes)"
   ]
  },
  {
   "cell_type": "markdown",
   "metadata": {},
   "source": [
    "Now we will garner summary stats about the all the variables. Important notes:\n",
    "- reported income mean is much higher than national mean.\n",
    "- 7.93% of population in train data set has defaulted\n",
    "- 25.855% of population already had an account with XYZ\n",
    "- All utilization variables have a mean around 50%\n",
    "- Standard deviation is relatively large for average card debt (0.66 as a proportion of the mean)."
   ]
  },
  {
   "cell_type": "code",
   "execution_count": 49,
   "metadata": {},
   "outputs": [
    {
     "data": {
      "text/html": [
       "<div>\n",
       "<style scoped>\n",
       "    .dataframe tbody tr th:only-of-type {\n",
       "        vertical-align: middle;\n",
       "    }\n",
       "\n",
       "    .dataframe tbody tr th {\n",
       "        vertical-align: top;\n",
       "    }\n",
       "\n",
       "    .dataframe thead th {\n",
       "        text-align: right;\n",
       "    }\n",
       "</style>\n",
       "<table border=\"1\" class=\"dataframe\">\n",
       "  <thead>\n",
       "    <tr style=\"text-align: right;\">\n",
       "      <th></th>\n",
       "      <th>tot_credit_debt</th>\n",
       "      <th>avg_card_debt</th>\n",
       "      <th>credit_age</th>\n",
       "      <th>credit_good_age</th>\n",
       "      <th>card_age</th>\n",
       "      <th>non_mtg_acc_past_due_12_months_num</th>\n",
       "      <th>non_mtg_acc_past_due_6_months_num</th>\n",
       "      <th>mortgages_past_due_6_months_num</th>\n",
       "      <th>credit_past_due_amount</th>\n",
       "      <th>inq_12_month_num</th>\n",
       "      <th>card_inq_24_month_num</th>\n",
       "      <th>card_open_36_month_num</th>\n",
       "      <th>auto_open_ 36_month_num</th>\n",
       "      <th>uti_card</th>\n",
       "      <th>uti_50plus_pct</th>\n",
       "      <th>uti_max_credit_line</th>\n",
       "      <th>uti_card_50plus_pct</th>\n",
       "      <th>ind_acc_XYZ</th>\n",
       "      <th>rep_income</th>\n",
       "      <th>Default_ind</th>\n",
       "    </tr>\n",
       "  </thead>\n",
       "  <tbody>\n",
       "    <tr>\n",
       "      <th>count</th>\n",
       "      <td>20000.000000</td>\n",
       "      <td>20000.000000</td>\n",
       "      <td>20000.000000</td>\n",
       "      <td>20000.000000</td>\n",
       "      <td>20000.000000</td>\n",
       "      <td>20000.00000</td>\n",
       "      <td>20000.000000</td>\n",
       "      <td>20000.000000</td>\n",
       "      <td>20000.000000</td>\n",
       "      <td>20000.000000</td>\n",
       "      <td>20000.000000</td>\n",
       "      <td>20000.000000</td>\n",
       "      <td>20000.000000</td>\n",
       "      <td>20000.000000</td>\n",
       "      <td>20000.000000</td>\n",
       "      <td>20000.000000</td>\n",
       "      <td>17945.000000</td>\n",
       "      <td>20000.000000</td>\n",
       "      <td>18430.000000</td>\n",
       "      <td>20000.000000</td>\n",
       "    </tr>\n",
       "    <tr>\n",
       "      <th>mean</th>\n",
       "      <td>94563.702530</td>\n",
       "      <td>14088.235475</td>\n",
       "      <td>296.697000</td>\n",
       "      <td>149.771750</td>\n",
       "      <td>268.015200</td>\n",
       "      <td>0.11135</td>\n",
       "      <td>0.027400</td>\n",
       "      <td>0.030200</td>\n",
       "      <td>329.287867</td>\n",
       "      <td>1.762700</td>\n",
       "      <td>3.409600</td>\n",
       "      <td>0.163050</td>\n",
       "      <td>0.141000</td>\n",
       "      <td>0.503157</td>\n",
       "      <td>0.511007</td>\n",
       "      <td>0.507629</td>\n",
       "      <td>0.489594</td>\n",
       "      <td>0.258550</td>\n",
       "      <td>75499.511666</td>\n",
       "      <td>0.079300</td>\n",
       "    </tr>\n",
       "    <tr>\n",
       "      <th>std</th>\n",
       "      <td>23546.443862</td>\n",
       "      <td>9314.495936</td>\n",
       "      <td>61.711702</td>\n",
       "      <td>34.016476</td>\n",
       "      <td>59.364769</td>\n",
       "      <td>0.43389</td>\n",
       "      <td>0.171903</td>\n",
       "      <td>0.171142</td>\n",
       "      <td>2073.899357</td>\n",
       "      <td>1.740816</td>\n",
       "      <td>2.926697</td>\n",
       "      <td>0.386099</td>\n",
       "      <td>0.349607</td>\n",
       "      <td>0.109354</td>\n",
       "      <td>0.113456</td>\n",
       "      <td>0.108624</td>\n",
       "      <td>0.119701</td>\n",
       "      <td>0.437849</td>\n",
       "      <td>16361.955146</td>\n",
       "      <td>0.270213</td>\n",
       "    </tr>\n",
       "    <tr>\n",
       "      <th>min</th>\n",
       "      <td>2367.430000</td>\n",
       "      <td>2363.120000</td>\n",
       "      <td>54.000000</td>\n",
       "      <td>21.000000</td>\n",
       "      <td>41.000000</td>\n",
       "      <td>0.00000</td>\n",
       "      <td>0.000000</td>\n",
       "      <td>0.000000</td>\n",
       "      <td>0.000000</td>\n",
       "      <td>0.000000</td>\n",
       "      <td>0.000000</td>\n",
       "      <td>0.000000</td>\n",
       "      <td>0.000000</td>\n",
       "      <td>0.065120</td>\n",
       "      <td>0.033749</td>\n",
       "      <td>0.005174</td>\n",
       "      <td>0.000000</td>\n",
       "      <td>0.000000</td>\n",
       "      <td>12000.000000</td>\n",
       "      <td>0.000000</td>\n",
       "    </tr>\n",
       "    <tr>\n",
       "      <th>25%</th>\n",
       "      <td>78743.750000</td>\n",
       "      <td>11321.502500</td>\n",
       "      <td>255.000000</td>\n",
       "      <td>127.000000</td>\n",
       "      <td>227.000000</td>\n",
       "      <td>0.00000</td>\n",
       "      <td>0.000000</td>\n",
       "      <td>0.000000</td>\n",
       "      <td>0.000000</td>\n",
       "      <td>0.000000</td>\n",
       "      <td>1.000000</td>\n",
       "      <td>0.000000</td>\n",
       "      <td>0.000000</td>\n",
       "      <td>0.429611</td>\n",
       "      <td>0.435171</td>\n",
       "      <td>0.433550</td>\n",
       "      <td>0.409794</td>\n",
       "      <td>0.000000</td>\n",
       "      <td>64000.000000</td>\n",
       "      <td>0.000000</td>\n",
       "    </tr>\n",
       "    <tr>\n",
       "      <th>50%</th>\n",
       "      <td>94670.630000</td>\n",
       "      <td>13243.750000</td>\n",
       "      <td>297.000000</td>\n",
       "      <td>150.000000</td>\n",
       "      <td>268.000000</td>\n",
       "      <td>0.00000</td>\n",
       "      <td>0.000000</td>\n",
       "      <td>0.000000</td>\n",
       "      <td>0.000000</td>\n",
       "      <td>1.000000</td>\n",
       "      <td>3.000000</td>\n",
       "      <td>0.000000</td>\n",
       "      <td>0.000000</td>\n",
       "      <td>0.502800</td>\n",
       "      <td>0.509922</td>\n",
       "      <td>0.507193</td>\n",
       "      <td>0.490074</td>\n",
       "      <td>0.000000</td>\n",
       "      <td>75000.000000</td>\n",
       "      <td>0.000000</td>\n",
       "    </tr>\n",
       "    <tr>\n",
       "      <th>75%</th>\n",
       "      <td>110329.335000</td>\n",
       "      <td>15196.060000</td>\n",
       "      <td>339.000000</td>\n",
       "      <td>172.000000</td>\n",
       "      <td>308.000000</td>\n",
       "      <td>0.00000</td>\n",
       "      <td>0.000000</td>\n",
       "      <td>0.000000</td>\n",
       "      <td>0.000000</td>\n",
       "      <td>3.000000</td>\n",
       "      <td>5.000000</td>\n",
       "      <td>0.000000</td>\n",
       "      <td>0.000000</td>\n",
       "      <td>0.577412</td>\n",
       "      <td>0.588418</td>\n",
       "      <td>0.581376</td>\n",
       "      <td>0.569036</td>\n",
       "      <td>1.000000</td>\n",
       "      <td>86000.000000</td>\n",
       "      <td>0.000000</td>\n",
       "    </tr>\n",
       "    <tr>\n",
       "      <th>max</th>\n",
       "      <td>188890.960000</td>\n",
       "      <td>99999.000000</td>\n",
       "      <td>545.000000</td>\n",
       "      <td>296.000000</td>\n",
       "      <td>520.000000</td>\n",
       "      <td>4.00000</td>\n",
       "      <td>2.000000</td>\n",
       "      <td>1.000000</td>\n",
       "      <td>32662.980000</td>\n",
       "      <td>10.000000</td>\n",
       "      <td>18.000000</td>\n",
       "      <td>2.000000</td>\n",
       "      <td>2.000000</td>\n",
       "      <td>0.969289</td>\n",
       "      <td>0.988964</td>\n",
       "      <td>1.000000</td>\n",
       "      <td>0.970776</td>\n",
       "      <td>1.000000</td>\n",
       "      <td>150000.000000</td>\n",
       "      <td>1.000000</td>\n",
       "    </tr>\n",
       "  </tbody>\n",
       "</table>\n",
       "</div>"
      ],
      "text/plain": [
       "       tot_credit_debt  avg_card_debt    credit_age  credit_good_age  \\\n",
       "count     20000.000000   20000.000000  20000.000000     20000.000000   \n",
       "mean      94563.702530   14088.235475    296.697000       149.771750   \n",
       "std       23546.443862    9314.495936     61.711702        34.016476   \n",
       "min        2367.430000    2363.120000     54.000000        21.000000   \n",
       "25%       78743.750000   11321.502500    255.000000       127.000000   \n",
       "50%       94670.630000   13243.750000    297.000000       150.000000   \n",
       "75%      110329.335000   15196.060000    339.000000       172.000000   \n",
       "max      188890.960000   99999.000000    545.000000       296.000000   \n",
       "\n",
       "           card_age  non_mtg_acc_past_due_12_months_num  \\\n",
       "count  20000.000000                         20000.00000   \n",
       "mean     268.015200                             0.11135   \n",
       "std       59.364769                             0.43389   \n",
       "min       41.000000                             0.00000   \n",
       "25%      227.000000                             0.00000   \n",
       "50%      268.000000                             0.00000   \n",
       "75%      308.000000                             0.00000   \n",
       "max      520.000000                             4.00000   \n",
       "\n",
       "       non_mtg_acc_past_due_6_months_num  mortgages_past_due_6_months_num  \\\n",
       "count                       20000.000000                     20000.000000   \n",
       "mean                            0.027400                         0.030200   \n",
       "std                             0.171903                         0.171142   \n",
       "min                             0.000000                         0.000000   \n",
       "25%                             0.000000                         0.000000   \n",
       "50%                             0.000000                         0.000000   \n",
       "75%                             0.000000                         0.000000   \n",
       "max                             2.000000                         1.000000   \n",
       "\n",
       "       credit_past_due_amount  inq_12_month_num  card_inq_24_month_num  \\\n",
       "count            20000.000000      20000.000000           20000.000000   \n",
       "mean               329.287867          1.762700               3.409600   \n",
       "std               2073.899357          1.740816               2.926697   \n",
       "min                  0.000000          0.000000               0.000000   \n",
       "25%                  0.000000          0.000000               1.000000   \n",
       "50%                  0.000000          1.000000               3.000000   \n",
       "75%                  0.000000          3.000000               5.000000   \n",
       "max              32662.980000         10.000000              18.000000   \n",
       "\n",
       "       card_open_36_month_num  auto_open_ 36_month_num      uti_card  \\\n",
       "count            20000.000000             20000.000000  20000.000000   \n",
       "mean                 0.163050                 0.141000      0.503157   \n",
       "std                  0.386099                 0.349607      0.109354   \n",
       "min                  0.000000                 0.000000      0.065120   \n",
       "25%                  0.000000                 0.000000      0.429611   \n",
       "50%                  0.000000                 0.000000      0.502800   \n",
       "75%                  0.000000                 0.000000      0.577412   \n",
       "max                  2.000000                 2.000000      0.969289   \n",
       "\n",
       "       uti_50plus_pct  uti_max_credit_line  uti_card_50plus_pct   ind_acc_XYZ  \\\n",
       "count    20000.000000         20000.000000         17945.000000  20000.000000   \n",
       "mean         0.511007             0.507629             0.489594      0.258550   \n",
       "std          0.113456             0.108624             0.119701      0.437849   \n",
       "min          0.033749             0.005174             0.000000      0.000000   \n",
       "25%          0.435171             0.433550             0.409794      0.000000   \n",
       "50%          0.509922             0.507193             0.490074      0.000000   \n",
       "75%          0.588418             0.581376             0.569036      1.000000   \n",
       "max          0.988964             1.000000             0.970776      1.000000   \n",
       "\n",
       "          rep_income   Default_ind  \n",
       "count   18430.000000  20000.000000  \n",
       "mean    75499.511666      0.079300  \n",
       "std     16361.955146      0.270213  \n",
       "min     12000.000000      0.000000  \n",
       "25%     64000.000000      0.000000  \n",
       "50%     75000.000000      0.000000  \n",
       "75%     86000.000000      0.000000  \n",
       "max    150000.000000      1.000000  "
      ]
     },
     "execution_count": 49,
     "metadata": {},
     "output_type": "execute_result"
    }
   ],
   "source": [
    "df_train.describe()"
   ]
  },
  {
   "cell_type": "markdown",
   "metadata": {},
   "source": [
    "We want to check which values are missing. \\\n",
    "\\\n",
    "At this point, we are considering dropping the reported income variable due to its self reported nature. \\\n",
    "\\\n",
    "We will need to find a way to deal with uti_card_50plus_pct as that may be an important variable."
   ]
  },
  {
   "cell_type": "code",
   "execution_count": 23,
   "metadata": {},
   "outputs": [
    {
     "name": "stdout",
     "output_type": "stream",
     "text": [
      "tot_credit_debt                          0\n",
      "avg_card_debt                            0\n",
      "credit_age                               0\n",
      "credit_good_age                          0\n",
      "card_age                                 0\n",
      "non_mtg_acc_past_due_12_months_num       0\n",
      "non_mtg_acc_past_due_6_months_num        0\n",
      "mortgages_past_due_6_months_num          0\n",
      "credit_past_due_amount                   0\n",
      "inq_12_month_num                         0\n",
      "card_inq_24_month_num                    0\n",
      "card_open_36_month_num                   0\n",
      "auto_open_ 36_month_num                  0\n",
      "uti_card                                 0\n",
      "uti_50plus_pct                           0\n",
      "uti_max_credit_line                      0\n",
      "uti_card_50plus_pct                   2055\n",
      "ind_acc_XYZ                              0\n",
      "rep_income                            1570\n",
      "AL                                       0\n",
      "FL                                       0\n",
      "GA                                       0\n",
      "LA                                       0\n",
      "MS                                       0\n",
      "NC                                       0\n",
      "SC                                       0\n",
      "Default_ind                              0\n",
      "dtype: int64\n",
      "uti_card_50plus_pct    2055\n",
      "rep_income             1570\n",
      "dtype: int64\n"
     ]
    }
   ],
   "source": [
    "print(df_train.isnull().sum())\n",
    "print(df_train[['uti_card_50plus_pct','rep_income']].isnull().sum())"
   ]
  },
  {
   "cell_type": "markdown",
   "metadata": {
    "id": "FalvEYOwa7Eo"
   },
   "source": [
    "It is important to compare the statistics of the defaulting population to the non defaulting population. \\\n",
    "\\\n",
    "We note the following: \n",
    "- The mean average card debt, credit past due amount, and utilization variables are much higher in the defaulting population than the non-defaulting population\n",
    "- For average card debt and credit past due amount, the defaulting population had a much greater std, suggesting high variance in the defaulting population\n",
    "- Reported income stats for both populations is very similar"
   ]
  },
  {
   "cell_type": "code",
   "execution_count": 8,
   "metadata": {
    "id": "MoW52KFObSzt"
   },
   "outputs": [],
   "source": [
    "defaulting_population = df_train[df_train[\"Default_ind\"] == 1]\n",
    "non_defaulting_population = df_train[df_train[\"Default_ind\"] == 0]"
   ]
  },
  {
   "cell_type": "code",
   "execution_count": 9,
   "metadata": {
    "colab": {
     "base_uri": "https://localhost:8080/",
     "height": 334
    },
    "id": "ZNACKGLwb9nn",
    "outputId": "d44f0d20-405e-4151-d848-30a827e8ab92"
   },
   "outputs": [
    {
     "data": {
      "text/html": [
       "<div>\n",
       "<style scoped>\n",
       "    .dataframe tbody tr th:only-of-type {\n",
       "        vertical-align: middle;\n",
       "    }\n",
       "\n",
       "    .dataframe tbody tr th {\n",
       "        vertical-align: top;\n",
       "    }\n",
       "\n",
       "    .dataframe thead th {\n",
       "        text-align: right;\n",
       "    }\n",
       "</style>\n",
       "<table border=\"1\" class=\"dataframe\">\n",
       "  <thead>\n",
       "    <tr style=\"text-align: right;\">\n",
       "      <th></th>\n",
       "      <th>tot_credit_debt</th>\n",
       "      <th>avg_card_debt</th>\n",
       "      <th>credit_age</th>\n",
       "      <th>credit_good_age</th>\n",
       "      <th>card_age</th>\n",
       "      <th>non_mtg_acc_past_due_12_months_num</th>\n",
       "      <th>non_mtg_acc_past_due_6_months_num</th>\n",
       "      <th>mortgages_past_due_6_months_num</th>\n",
       "      <th>credit_past_due_amount</th>\n",
       "      <th>inq_12_month_num</th>\n",
       "      <th>card_inq_24_month_num</th>\n",
       "      <th>card_open_36_month_num</th>\n",
       "      <th>auto_open_ 36_month_num</th>\n",
       "      <th>uti_card</th>\n",
       "      <th>uti_50plus_pct</th>\n",
       "      <th>uti_max_credit_line</th>\n",
       "      <th>uti_card_50plus_pct</th>\n",
       "      <th>ind_acc_XYZ</th>\n",
       "      <th>rep_income</th>\n",
       "      <th>Default_ind</th>\n",
       "    </tr>\n",
       "  </thead>\n",
       "  <tbody>\n",
       "    <tr>\n",
       "      <th>count</th>\n",
       "      <td>1586.000000</td>\n",
       "      <td>1586.000000</td>\n",
       "      <td>1586.000000</td>\n",
       "      <td>1586.000000</td>\n",
       "      <td>1586.000000</td>\n",
       "      <td>1586.000000</td>\n",
       "      <td>1586.000000</td>\n",
       "      <td>1586.000000</td>\n",
       "      <td>1586.000000</td>\n",
       "      <td>1586.000000</td>\n",
       "      <td>1586.000000</td>\n",
       "      <td>1586.000000</td>\n",
       "      <td>1586.000000</td>\n",
       "      <td>1586.000000</td>\n",
       "      <td>1586.000000</td>\n",
       "      <td>1586.000000</td>\n",
       "      <td>1412.000000</td>\n",
       "      <td>1586.000000</td>\n",
       "      <td>1457.000000</td>\n",
       "      <td>1586.0</td>\n",
       "    </tr>\n",
       "    <tr>\n",
       "      <th>mean</th>\n",
       "      <td>91915.567554</td>\n",
       "      <td>17880.428821</td>\n",
       "      <td>275.160151</td>\n",
       "      <td>140.535309</td>\n",
       "      <td>247.708701</td>\n",
       "      <td>0.706810</td>\n",
       "      <td>0.249685</td>\n",
       "      <td>0.268600</td>\n",
       "      <td>3060.922629</td>\n",
       "      <td>2.288777</td>\n",
       "      <td>4.163934</td>\n",
       "      <td>0.192938</td>\n",
       "      <td>0.149433</td>\n",
       "      <td>0.560360</td>\n",
       "      <td>0.557966</td>\n",
       "      <td>0.551171</td>\n",
       "      <td>0.544364</td>\n",
       "      <td>0.206810</td>\n",
       "      <td>74522.992450</td>\n",
       "      <td>1.0</td>\n",
       "    </tr>\n",
       "    <tr>\n",
       "      <th>std</th>\n",
       "      <td>29920.362673</td>\n",
       "      <td>21195.058690</td>\n",
       "      <td>61.986033</td>\n",
       "      <td>33.557997</td>\n",
       "      <td>58.602115</td>\n",
       "      <td>1.035236</td>\n",
       "      <td>0.473343</td>\n",
       "      <td>0.443371</td>\n",
       "      <td>5777.479779</td>\n",
       "      <td>1.867494</td>\n",
       "      <td>3.137177</td>\n",
       "      <td>0.419524</td>\n",
       "      <td>0.356627</td>\n",
       "      <td>0.110701</td>\n",
       "      <td>0.114920</td>\n",
       "      <td>0.109630</td>\n",
       "      <td>0.123059</td>\n",
       "      <td>0.405145</td>\n",
       "      <td>16775.126303</td>\n",
       "      <td>0.0</td>\n",
       "    </tr>\n",
       "    <tr>\n",
       "      <th>min</th>\n",
       "      <td>6898.500000</td>\n",
       "      <td>2363.120000</td>\n",
       "      <td>54.000000</td>\n",
       "      <td>21.000000</td>\n",
       "      <td>41.000000</td>\n",
       "      <td>0.000000</td>\n",
       "      <td>0.000000</td>\n",
       "      <td>0.000000</td>\n",
       "      <td>0.000000</td>\n",
       "      <td>0.000000</td>\n",
       "      <td>0.000000</td>\n",
       "      <td>0.000000</td>\n",
       "      <td>0.000000</td>\n",
       "      <td>0.208749</td>\n",
       "      <td>0.163960</td>\n",
       "      <td>0.186306</td>\n",
       "      <td>0.118153</td>\n",
       "      <td>0.000000</td>\n",
       "      <td>26000.000000</td>\n",
       "      <td>1.0</td>\n",
       "    </tr>\n",
       "    <tr>\n",
       "      <th>25%</th>\n",
       "      <td>70589.517500</td>\n",
       "      <td>9864.232500</td>\n",
       "      <td>233.000000</td>\n",
       "      <td>118.000000</td>\n",
       "      <td>206.000000</td>\n",
       "      <td>0.000000</td>\n",
       "      <td>0.000000</td>\n",
       "      <td>0.000000</td>\n",
       "      <td>0.000000</td>\n",
       "      <td>1.000000</td>\n",
       "      <td>2.000000</td>\n",
       "      <td>0.000000</td>\n",
       "      <td>0.000000</td>\n",
       "      <td>0.487653</td>\n",
       "      <td>0.476796</td>\n",
       "      <td>0.476078</td>\n",
       "      <td>0.462664</td>\n",
       "      <td>0.000000</td>\n",
       "      <td>63000.000000</td>\n",
       "      <td>1.0</td>\n",
       "    </tr>\n",
       "    <tr>\n",
       "      <th>50%</th>\n",
       "      <td>91235.590000</td>\n",
       "      <td>13125.530000</td>\n",
       "      <td>274.000000</td>\n",
       "      <td>140.000000</td>\n",
       "      <td>247.000000</td>\n",
       "      <td>0.000000</td>\n",
       "      <td>0.000000</td>\n",
       "      <td>0.000000</td>\n",
       "      <td>0.000000</td>\n",
       "      <td>2.000000</td>\n",
       "      <td>4.000000</td>\n",
       "      <td>0.000000</td>\n",
       "      <td>0.000000</td>\n",
       "      <td>0.564220</td>\n",
       "      <td>0.558708</td>\n",
       "      <td>0.550171</td>\n",
       "      <td>0.547647</td>\n",
       "      <td>0.000000</td>\n",
       "      <td>74000.000000</td>\n",
       "      <td>1.0</td>\n",
       "    </tr>\n",
       "    <tr>\n",
       "      <th>75%</th>\n",
       "      <td>112973.610000</td>\n",
       "      <td>16356.372500</td>\n",
       "      <td>316.000000</td>\n",
       "      <td>163.000000</td>\n",
       "      <td>288.000000</td>\n",
       "      <td>2.000000</td>\n",
       "      <td>0.000000</td>\n",
       "      <td>1.000000</td>\n",
       "      <td>4905.157500</td>\n",
       "      <td>4.000000</td>\n",
       "      <td>6.000000</td>\n",
       "      <td>0.000000</td>\n",
       "      <td>0.000000</td>\n",
       "      <td>0.636084</td>\n",
       "      <td>0.638486</td>\n",
       "      <td>0.623271</td>\n",
       "      <td>0.629132</td>\n",
       "      <td>0.000000</td>\n",
       "      <td>85000.000000</td>\n",
       "      <td>1.0</td>\n",
       "    </tr>\n",
       "    <tr>\n",
       "      <th>max</th>\n",
       "      <td>188890.960000</td>\n",
       "      <td>99999.000000</td>\n",
       "      <td>521.000000</td>\n",
       "      <td>274.000000</td>\n",
       "      <td>463.000000</td>\n",
       "      <td>4.000000</td>\n",
       "      <td>2.000000</td>\n",
       "      <td>1.000000</td>\n",
       "      <td>32662.980000</td>\n",
       "      <td>9.000000</td>\n",
       "      <td>15.000000</td>\n",
       "      <td>2.000000</td>\n",
       "      <td>1.000000</td>\n",
       "      <td>0.969289</td>\n",
       "      <td>0.894996</td>\n",
       "      <td>1.000000</td>\n",
       "      <td>0.970776</td>\n",
       "      <td>1.000000</td>\n",
       "      <td>123000.000000</td>\n",
       "      <td>1.0</td>\n",
       "    </tr>\n",
       "  </tbody>\n",
       "</table>\n",
       "</div>"
      ],
      "text/plain": [
       "       tot_credit_debt  avg_card_debt   credit_age  credit_good_age  \\\n",
       "count      1586.000000    1586.000000  1586.000000      1586.000000   \n",
       "mean      91915.567554   17880.428821   275.160151       140.535309   \n",
       "std       29920.362673   21195.058690    61.986033        33.557997   \n",
       "min        6898.500000    2363.120000    54.000000        21.000000   \n",
       "25%       70589.517500    9864.232500   233.000000       118.000000   \n",
       "50%       91235.590000   13125.530000   274.000000       140.000000   \n",
       "75%      112973.610000   16356.372500   316.000000       163.000000   \n",
       "max      188890.960000   99999.000000   521.000000       274.000000   \n",
       "\n",
       "          card_age  non_mtg_acc_past_due_12_months_num  \\\n",
       "count  1586.000000                         1586.000000   \n",
       "mean    247.708701                            0.706810   \n",
       "std      58.602115                            1.035236   \n",
       "min      41.000000                            0.000000   \n",
       "25%     206.000000                            0.000000   \n",
       "50%     247.000000                            0.000000   \n",
       "75%     288.000000                            2.000000   \n",
       "max     463.000000                            4.000000   \n",
       "\n",
       "       non_mtg_acc_past_due_6_months_num  mortgages_past_due_6_months_num  \\\n",
       "count                        1586.000000                      1586.000000   \n",
       "mean                            0.249685                         0.268600   \n",
       "std                             0.473343                         0.443371   \n",
       "min                             0.000000                         0.000000   \n",
       "25%                             0.000000                         0.000000   \n",
       "50%                             0.000000                         0.000000   \n",
       "75%                             0.000000                         1.000000   \n",
       "max                             2.000000                         1.000000   \n",
       "\n",
       "       credit_past_due_amount  inq_12_month_num  card_inq_24_month_num  \\\n",
       "count             1586.000000       1586.000000            1586.000000   \n",
       "mean              3060.922629          2.288777               4.163934   \n",
       "std               5777.479779          1.867494               3.137177   \n",
       "min                  0.000000          0.000000               0.000000   \n",
       "25%                  0.000000          1.000000               2.000000   \n",
       "50%                  0.000000          2.000000               4.000000   \n",
       "75%               4905.157500          4.000000               6.000000   \n",
       "max              32662.980000          9.000000              15.000000   \n",
       "\n",
       "       card_open_36_month_num  auto_open_ 36_month_num     uti_card  \\\n",
       "count             1586.000000              1586.000000  1586.000000   \n",
       "mean                 0.192938                 0.149433     0.560360   \n",
       "std                  0.419524                 0.356627     0.110701   \n",
       "min                  0.000000                 0.000000     0.208749   \n",
       "25%                  0.000000                 0.000000     0.487653   \n",
       "50%                  0.000000                 0.000000     0.564220   \n",
       "75%                  0.000000                 0.000000     0.636084   \n",
       "max                  2.000000                 1.000000     0.969289   \n",
       "\n",
       "       uti_50plus_pct  uti_max_credit_line  uti_card_50plus_pct  ind_acc_XYZ  \\\n",
       "count     1586.000000          1586.000000          1412.000000  1586.000000   \n",
       "mean         0.557966             0.551171             0.544364     0.206810   \n",
       "std          0.114920             0.109630             0.123059     0.405145   \n",
       "min          0.163960             0.186306             0.118153     0.000000   \n",
       "25%          0.476796             0.476078             0.462664     0.000000   \n",
       "50%          0.558708             0.550171             0.547647     0.000000   \n",
       "75%          0.638486             0.623271             0.629132     0.000000   \n",
       "max          0.894996             1.000000             0.970776     1.000000   \n",
       "\n",
       "          rep_income  Default_ind  \n",
       "count    1457.000000       1586.0  \n",
       "mean    74522.992450          1.0  \n",
       "std     16775.126303          0.0  \n",
       "min     26000.000000          1.0  \n",
       "25%     63000.000000          1.0  \n",
       "50%     74000.000000          1.0  \n",
       "75%     85000.000000          1.0  \n",
       "max    123000.000000          1.0  "
      ]
     },
     "execution_count": 9,
     "metadata": {},
     "output_type": "execute_result"
    }
   ],
   "source": [
    "defaulting_population.describe()"
   ]
  },
  {
   "cell_type": "code",
   "execution_count": 242,
   "metadata": {
    "colab": {
     "base_uri": "https://localhost:8080/",
     "height": 334
    },
    "id": "5fCCXmEucffv",
    "outputId": "db657543-fde3-404d-df4b-dc7ffd6888af"
   },
   "outputs": [
    {
     "data": {
      "text/html": [
       "<div>\n",
       "<style scoped>\n",
       "    .dataframe tbody tr th:only-of-type {\n",
       "        vertical-align: middle;\n",
       "    }\n",
       "\n",
       "    .dataframe tbody tr th {\n",
       "        vertical-align: top;\n",
       "    }\n",
       "\n",
       "    .dataframe thead th {\n",
       "        text-align: right;\n",
       "    }\n",
       "</style>\n",
       "<table border=\"1\" class=\"dataframe\">\n",
       "  <thead>\n",
       "    <tr style=\"text-align: right;\">\n",
       "      <th></th>\n",
       "      <th>tot_credit_debt</th>\n",
       "      <th>avg_card_debt</th>\n",
       "      <th>credit_age</th>\n",
       "      <th>credit_good_age</th>\n",
       "      <th>card_age</th>\n",
       "      <th>non_mtg_acc_past_due_12_months_num</th>\n",
       "      <th>non_mtg_acc_past_due_6_months_num</th>\n",
       "      <th>mortgages_past_due_6_months_num</th>\n",
       "      <th>credit_past_due_amount</th>\n",
       "      <th>inq_12_month_num</th>\n",
       "      <th>card_inq_24_month_num</th>\n",
       "      <th>card_open_36_month_num</th>\n",
       "      <th>auto_open_ 36_month_num</th>\n",
       "      <th>uti_card</th>\n",
       "      <th>uti_50plus_pct</th>\n",
       "      <th>uti_max_credit_line</th>\n",
       "      <th>uti_card_50plus_pct</th>\n",
       "      <th>ind_acc_XYZ</th>\n",
       "      <th>rep_income</th>\n",
       "      <th>Default_ind</th>\n",
       "    </tr>\n",
       "  </thead>\n",
       "  <tbody>\n",
       "    <tr>\n",
       "      <th>count</th>\n",
       "      <td>18414.000000</td>\n",
       "      <td>18414.000000</td>\n",
       "      <td>18414.000000</td>\n",
       "      <td>18414.000000</td>\n",
       "      <td>18414.000000</td>\n",
       "      <td>18414.000000</td>\n",
       "      <td>18414.000000</td>\n",
       "      <td>18414.000000</td>\n",
       "      <td>18414.000000</td>\n",
       "      <td>18414.000000</td>\n",
       "      <td>18414.000000</td>\n",
       "      <td>18414.000000</td>\n",
       "      <td>18414.000000</td>\n",
       "      <td>18414.000000</td>\n",
       "      <td>18414.000000</td>\n",
       "      <td>18414.000000</td>\n",
       "      <td>16533.000000</td>\n",
       "      <td>18414.000000</td>\n",
       "      <td>16973.000000</td>\n",
       "      <td>18414.0</td>\n",
       "    </tr>\n",
       "    <tr>\n",
       "      <th>mean</th>\n",
       "      <td>94791.786710</td>\n",
       "      <td>13761.613413</td>\n",
       "      <td>298.551971</td>\n",
       "      <td>150.567286</td>\n",
       "      <td>269.764201</td>\n",
       "      <td>0.060063</td>\n",
       "      <td>0.008255</td>\n",
       "      <td>0.009667</td>\n",
       "      <td>94.011842</td>\n",
       "      <td>1.717389</td>\n",
       "      <td>3.344629</td>\n",
       "      <td>0.160476</td>\n",
       "      <td>0.140274</td>\n",
       "      <td>0.498230</td>\n",
       "      <td>0.506963</td>\n",
       "      <td>0.503879</td>\n",
       "      <td>0.484916</td>\n",
       "      <td>0.263006</td>\n",
       "      <td>75583.338243</td>\n",
       "      <td>0.0</td>\n",
       "    </tr>\n",
       "    <tr>\n",
       "      <th>std</th>\n",
       "      <td>22901.385098</td>\n",
       "      <td>7363.255055</td>\n",
       "      <td>61.336991</td>\n",
       "      <td>33.939197</td>\n",
       "      <td>59.106129</td>\n",
       "      <td>0.281161</td>\n",
       "      <td>0.090481</td>\n",
       "      <td>0.097845</td>\n",
       "      <td>1048.877699</td>\n",
       "      <td>1.722024</td>\n",
       "      <td>2.898779</td>\n",
       "      <td>0.382987</td>\n",
       "      <td>0.348996</td>\n",
       "      <td>0.107830</td>\n",
       "      <td>0.112418</td>\n",
       "      <td>0.107720</td>\n",
       "      <td>0.118243</td>\n",
       "      <td>0.440278</td>\n",
       "      <td>16323.783467</td>\n",
       "      <td>0.0</td>\n",
       "    </tr>\n",
       "    <tr>\n",
       "      <th>min</th>\n",
       "      <td>2367.430000</td>\n",
       "      <td>4595.020000</td>\n",
       "      <td>78.000000</td>\n",
       "      <td>27.000000</td>\n",
       "      <td>56.000000</td>\n",
       "      <td>0.000000</td>\n",
       "      <td>0.000000</td>\n",
       "      <td>0.000000</td>\n",
       "      <td>0.000000</td>\n",
       "      <td>0.000000</td>\n",
       "      <td>0.000000</td>\n",
       "      <td>0.000000</td>\n",
       "      <td>0.000000</td>\n",
       "      <td>0.065120</td>\n",
       "      <td>0.033749</td>\n",
       "      <td>0.005174</td>\n",
       "      <td>0.000000</td>\n",
       "      <td>0.000000</td>\n",
       "      <td>12000.000000</td>\n",
       "      <td>0.0</td>\n",
       "    </tr>\n",
       "    <tr>\n",
       "      <th>25%</th>\n",
       "      <td>79292.612500</td>\n",
       "      <td>11401.827500</td>\n",
       "      <td>257.000000</td>\n",
       "      <td>128.000000</td>\n",
       "      <td>229.000000</td>\n",
       "      <td>0.000000</td>\n",
       "      <td>0.000000</td>\n",
       "      <td>0.000000</td>\n",
       "      <td>0.000000</td>\n",
       "      <td>0.000000</td>\n",
       "      <td>1.000000</td>\n",
       "      <td>0.000000</td>\n",
       "      <td>0.000000</td>\n",
       "      <td>0.425885</td>\n",
       "      <td>0.431793</td>\n",
       "      <td>0.430766</td>\n",
       "      <td>0.405870</td>\n",
       "      <td>0.000000</td>\n",
       "      <td>65000.000000</td>\n",
       "      <td>0.0</td>\n",
       "    </tr>\n",
       "    <tr>\n",
       "      <th>50%</th>\n",
       "      <td>94912.085000</td>\n",
       "      <td>13251.240000</td>\n",
       "      <td>299.000000</td>\n",
       "      <td>151.000000</td>\n",
       "      <td>270.000000</td>\n",
       "      <td>0.000000</td>\n",
       "      <td>0.000000</td>\n",
       "      <td>0.000000</td>\n",
       "      <td>0.000000</td>\n",
       "      <td>1.000000</td>\n",
       "      <td>3.000000</td>\n",
       "      <td>0.000000</td>\n",
       "      <td>0.000000</td>\n",
       "      <td>0.498045</td>\n",
       "      <td>0.506286</td>\n",
       "      <td>0.503482</td>\n",
       "      <td>0.485286</td>\n",
       "      <td>0.000000</td>\n",
       "      <td>76000.000000</td>\n",
       "      <td>0.0</td>\n",
       "    </tr>\n",
       "    <tr>\n",
       "      <th>75%</th>\n",
       "      <td>110188.782500</td>\n",
       "      <td>15138.300000</td>\n",
       "      <td>340.000000</td>\n",
       "      <td>173.000000</td>\n",
       "      <td>310.000000</td>\n",
       "      <td>0.000000</td>\n",
       "      <td>0.000000</td>\n",
       "      <td>0.000000</td>\n",
       "      <td>0.000000</td>\n",
       "      <td>3.000000</td>\n",
       "      <td>5.000000</td>\n",
       "      <td>0.000000</td>\n",
       "      <td>0.000000</td>\n",
       "      <td>0.571530</td>\n",
       "      <td>0.583785</td>\n",
       "      <td>0.577646</td>\n",
       "      <td>0.563275</td>\n",
       "      <td>1.000000</td>\n",
       "      <td>87000.000000</td>\n",
       "      <td>0.0</td>\n",
       "    </tr>\n",
       "    <tr>\n",
       "      <th>max</th>\n",
       "      <td>182858.990000</td>\n",
       "      <td>99999.000000</td>\n",
       "      <td>545.000000</td>\n",
       "      <td>296.000000</td>\n",
       "      <td>520.000000</td>\n",
       "      <td>3.000000</td>\n",
       "      <td>1.000000</td>\n",
       "      <td>1.000000</td>\n",
       "      <td>24211.550000</td>\n",
       "      <td>10.000000</td>\n",
       "      <td>18.000000</td>\n",
       "      <td>2.000000</td>\n",
       "      <td>2.000000</td>\n",
       "      <td>0.922326</td>\n",
       "      <td>0.988964</td>\n",
       "      <td>0.971640</td>\n",
       "      <td>0.949959</td>\n",
       "      <td>1.000000</td>\n",
       "      <td>150000.000000</td>\n",
       "      <td>0.0</td>\n",
       "    </tr>\n",
       "  </tbody>\n",
       "</table>\n",
       "</div>"
      ],
      "text/plain": [
       "       tot_credit_debt  avg_card_debt    credit_age  credit_good_age  \\\n",
       "count     18414.000000   18414.000000  18414.000000     18414.000000   \n",
       "mean      94791.786710   13761.613413    298.551971       150.567286   \n",
       "std       22901.385098    7363.255055     61.336991        33.939197   \n",
       "min        2367.430000    4595.020000     78.000000        27.000000   \n",
       "25%       79292.612500   11401.827500    257.000000       128.000000   \n",
       "50%       94912.085000   13251.240000    299.000000       151.000000   \n",
       "75%      110188.782500   15138.300000    340.000000       173.000000   \n",
       "max      182858.990000   99999.000000    545.000000       296.000000   \n",
       "\n",
       "           card_age  non_mtg_acc_past_due_12_months_num  \\\n",
       "count  18414.000000                        18414.000000   \n",
       "mean     269.764201                            0.060063   \n",
       "std       59.106129                            0.281161   \n",
       "min       56.000000                            0.000000   \n",
       "25%      229.000000                            0.000000   \n",
       "50%      270.000000                            0.000000   \n",
       "75%      310.000000                            0.000000   \n",
       "max      520.000000                            3.000000   \n",
       "\n",
       "       non_mtg_acc_past_due_6_months_num  mortgages_past_due_6_months_num  \\\n",
       "count                       18414.000000                     18414.000000   \n",
       "mean                            0.008255                         0.009667   \n",
       "std                             0.090481                         0.097845   \n",
       "min                             0.000000                         0.000000   \n",
       "25%                             0.000000                         0.000000   \n",
       "50%                             0.000000                         0.000000   \n",
       "75%                             0.000000                         0.000000   \n",
       "max                             1.000000                         1.000000   \n",
       "\n",
       "       credit_past_due_amount  inq_12_month_num  card_inq_24_month_num  \\\n",
       "count            18414.000000      18414.000000           18414.000000   \n",
       "mean                94.011842          1.717389               3.344629   \n",
       "std               1048.877699          1.722024               2.898779   \n",
       "min                  0.000000          0.000000               0.000000   \n",
       "25%                  0.000000          0.000000               1.000000   \n",
       "50%                  0.000000          1.000000               3.000000   \n",
       "75%                  0.000000          3.000000               5.000000   \n",
       "max              24211.550000         10.000000              18.000000   \n",
       "\n",
       "       card_open_36_month_num  auto_open_ 36_month_num      uti_card  \\\n",
       "count            18414.000000             18414.000000  18414.000000   \n",
       "mean                 0.160476                 0.140274      0.498230   \n",
       "std                  0.382987                 0.348996      0.107830   \n",
       "min                  0.000000                 0.000000      0.065120   \n",
       "25%                  0.000000                 0.000000      0.425885   \n",
       "50%                  0.000000                 0.000000      0.498045   \n",
       "75%                  0.000000                 0.000000      0.571530   \n",
       "max                  2.000000                 2.000000      0.922326   \n",
       "\n",
       "       uti_50plus_pct  uti_max_credit_line  uti_card_50plus_pct   ind_acc_XYZ  \\\n",
       "count    18414.000000         18414.000000         16533.000000  18414.000000   \n",
       "mean         0.506963             0.503879             0.484916      0.263006   \n",
       "std          0.112418             0.107720             0.118243      0.440278   \n",
       "min          0.033749             0.005174             0.000000      0.000000   \n",
       "25%          0.431793             0.430766             0.405870      0.000000   \n",
       "50%          0.506286             0.503482             0.485286      0.000000   \n",
       "75%          0.583785             0.577646             0.563275      1.000000   \n",
       "max          0.988964             0.971640             0.949959      1.000000   \n",
       "\n",
       "          rep_income  Default_ind  \n",
       "count   16973.000000      18414.0  \n",
       "mean    75583.338243          0.0  \n",
       "std     16323.783467          0.0  \n",
       "min     12000.000000          0.0  \n",
       "25%     65000.000000          0.0  \n",
       "50%     76000.000000          0.0  \n",
       "75%     87000.000000          0.0  \n",
       "max    150000.000000          0.0  "
      ]
     },
     "execution_count": 242,
     "metadata": {},
     "output_type": "execute_result"
    }
   ],
   "source": [
    "non_defaulting_population.describe()"
   ]
  },
  {
   "cell_type": "markdown",
   "metadata": {},
   "source": [
    "Do we have enough observations for the amount of explanatory variables? One way to check this for regression analysis is the rule of ten test. If 10k/p > n, there are too many explanatory variables and not enough observations.\n",
    "- k = explantory variables = 20\n",
    "- p = probability that account defaulted = 0.0793 (found in summary stats)\n",
    "- n = number of observations = 20,000\n",
    "\n",
    "Data has passed rule of ten test since 20,000 is much larger than 2522. \\\n",
    "\\\n",
    "For random forest, the number of observations is less of a concern for us as random forests are good with both large and small data sets."
   ]
  },
  {
   "cell_type": "code",
   "execution_count": 201,
   "metadata": {},
   "outputs": [
    {
     "name": "stdout",
     "output_type": "stream",
     "text": [
      "2522.068095838588\n"
     ]
    }
   ],
   "source": [
    "print((10 * 20) / 0.0793)"
   ]
  },
  {
   "cell_type": "markdown",
   "metadata": {
    "id": "6GAsJXgFKKtB"
   },
   "source": [
    "We can check for multicollinearity by finding each variable's variance inflation factor. This is extremely important to consider for the logistic regression model, as one of the main assumptions is that there is little to no collinearity explantory variables.\\\n",
    "\\\n",
    "As can be seen, there are many VIF values which are greater than 10, an unacceptable result. Additionally, there some VIF values that are less than 10 but greater than 5, a cause for concern (1)."
   ]
  },
  {
   "cell_type": "code",
   "execution_count": 17,
   "metadata": {
    "colab": {
     "base_uri": "https://localhost:8080/",
     "height": 576
    },
    "id": "SfDExrPLKUOx",
    "outputId": "94c041bf-dd2e-4fe0-d69c-5c564aba5756"
   },
   "outputs": [
    {
     "data": {
      "text/html": [
       "<div>\n",
       "<style scoped>\n",
       "    .dataframe tbody tr th:only-of-type {\n",
       "        vertical-align: middle;\n",
       "    }\n",
       "\n",
       "    .dataframe tbody tr th {\n",
       "        vertical-align: top;\n",
       "    }\n",
       "\n",
       "    .dataframe thead th {\n",
       "        text-align: right;\n",
       "    }\n",
       "</style>\n",
       "<table border=\"1\" class=\"dataframe\">\n",
       "  <thead>\n",
       "    <tr style=\"text-align: right;\">\n",
       "      <th></th>\n",
       "      <th>variables</th>\n",
       "      <th>VIF</th>\n",
       "    </tr>\n",
       "  </thead>\n",
       "  <tbody>\n",
       "    <tr>\n",
       "      <th>0</th>\n",
       "      <td>tot_credit_debt</td>\n",
       "      <td>16.224066</td>\n",
       "    </tr>\n",
       "    <tr>\n",
       "      <th>1</th>\n",
       "      <td>avg_card_debt</td>\n",
       "      <td>3.835799</td>\n",
       "    </tr>\n",
       "    <tr>\n",
       "      <th>2</th>\n",
       "      <td>credit_age</td>\n",
       "      <td>232.525965</td>\n",
       "    </tr>\n",
       "    <tr>\n",
       "      <th>3</th>\n",
       "      <td>credit_good_age</td>\n",
       "      <td>52.883615</td>\n",
       "    </tr>\n",
       "    <tr>\n",
       "      <th>4</th>\n",
       "      <td>card_age</td>\n",
       "      <td>174.509147</td>\n",
       "    </tr>\n",
       "    <tr>\n",
       "      <th>5</th>\n",
       "      <td>non_mtg_acc_past_due_12_months_num</td>\n",
       "      <td>4.612476</td>\n",
       "    </tr>\n",
       "    <tr>\n",
       "      <th>6</th>\n",
       "      <td>non_mtg_acc_past_due_6_months_num</td>\n",
       "      <td>3.462795</td>\n",
       "    </tr>\n",
       "    <tr>\n",
       "      <th>7</th>\n",
       "      <td>mortgages_past_due_6_months_num</td>\n",
       "      <td>6.670029</td>\n",
       "    </tr>\n",
       "    <tr>\n",
       "      <th>8</th>\n",
       "      <td>credit_past_due_amount</td>\n",
       "      <td>6.570714</td>\n",
       "    </tr>\n",
       "    <tr>\n",
       "      <th>9</th>\n",
       "      <td>inq_12_month_num</td>\n",
       "      <td>7.769188</td>\n",
       "    </tr>\n",
       "    <tr>\n",
       "      <th>10</th>\n",
       "      <td>card_inq_24_month_num</td>\n",
       "      <td>9.002325</td>\n",
       "    </tr>\n",
       "    <tr>\n",
       "      <th>11</th>\n",
       "      <td>card_open_36_month_num</td>\n",
       "      <td>1.188654</td>\n",
       "    </tr>\n",
       "    <tr>\n",
       "      <th>12</th>\n",
       "      <td>auto_open_ 36_month_num</td>\n",
       "      <td>1.172338</td>\n",
       "    </tr>\n",
       "    <tr>\n",
       "      <th>13</th>\n",
       "      <td>uti_card</td>\n",
       "      <td>78.503559</td>\n",
       "    </tr>\n",
       "    <tr>\n",
       "      <th>14</th>\n",
       "      <td>uti_50plus_pct</td>\n",
       "      <td>46.474318</td>\n",
       "    </tr>\n",
       "    <tr>\n",
       "      <th>15</th>\n",
       "      <td>uti_max_credit_line</td>\n",
       "      <td>49.135164</td>\n",
       "    </tr>\n",
       "    <tr>\n",
       "      <th>16</th>\n",
       "      <td>ind_acc_XYZ</td>\n",
       "      <td>1.348725</td>\n",
       "    </tr>\n",
       "  </tbody>\n",
       "</table>\n",
       "</div>"
      ],
      "text/plain": [
       "                             variables         VIF\n",
       "0                      tot_credit_debt   16.224066\n",
       "1                        avg_card_debt    3.835799\n",
       "2                           credit_age  232.525965\n",
       "3                      credit_good_age   52.883615\n",
       "4                             card_age  174.509147\n",
       "5   non_mtg_acc_past_due_12_months_num    4.612476\n",
       "6    non_mtg_acc_past_due_6_months_num    3.462795\n",
       "7      mortgages_past_due_6_months_num    6.670029\n",
       "8               credit_past_due_amount    6.570714\n",
       "9                     inq_12_month_num    7.769188\n",
       "10               card_inq_24_month_num    9.002325\n",
       "11              card_open_36_month_num    1.188654\n",
       "12             auto_open_ 36_month_num    1.172338\n",
       "13                            uti_card   78.503559\n",
       "14                      uti_50plus_pct   46.474318\n",
       "15                 uti_max_credit_line   49.135164\n",
       "16                         ind_acc_XYZ    1.348725"
      ]
     },
     "execution_count": 17,
     "metadata": {},
     "output_type": "execute_result"
    }
   ],
   "source": [
    "def calc_vif(X):\n",
    "    \n",
    "    vif = pd.DataFrame()\n",
    "    vif[\"variables\"] = X.columns\n",
    "    vif[\"VIF\"] = [variance_inflation_factor(X.values, i) for i in range(X.shape[1])]\n",
    "\n",
    "    return(vif)\n",
    "\n",
    "columns = []\n",
    "for num in range(0,18):\n",
    "    if num == 16:\n",
    "        pass\n",
    "    else:\n",
    "        columns.append(num)\n",
    "\n",
    "calc_vif(df_train.iloc[:,columns])"
   ]
  },
  {
   "cell_type": "markdown",
   "metadata": {},
   "source": [
    "Let's check for collinearity between specific variables, including the response variable. This will help shed light on which explanotory variables are colinear, which will be extremely important for logistic regression. We will also discover which explanatory variables we may consider to have too low of a correlation to the default indicator, which we want to minimize for our random tree model. \\\n",
    "\\\n",
    "To create a correlation matrix of all variables, we will firstly create dummy variables for the states."
   ]
  },
  {
   "cell_type": "code",
   "execution_count": 204,
   "metadata": {},
   "outputs": [],
   "source": [
    "dummies = pd.get_dummies(df_train['States'])\n",
    "default_ind = df_train['Default_ind']\n",
    "df_train = df_train.drop(columns=['States', 'Default_ind'])\n",
    "df_train = df_train.join(dummies)\n",
    "df_train = df_train.join(default_ind)"
   ]
  },
  {
   "cell_type": "markdown",
   "metadata": {},
   "source": [
    "Now the data is ready for a correlation matrix. \\\n",
    "\\\n",
    "Logistic regression notes: \\\n",
    "It seems that reported income does not have a high correlation with the response variable. This confirms to us that it is no longer worth keeping. The first five columns present unacceptable levels of colinearity. With no easy way to combine them, the four with least amount of correlation to the response variable will be dropped. Since the 12 month and 24 month card inquiry variables are highly colinear and since the 24 month card inquiry variable is cumulative, we will drop the 12 month card inquiry variable. \\\n",
    "\\\n",
    "Random forest notes: \\\n",
    "For now, we will consider credit age, credit good age, and card age to have too low of a correlation to the default indicator and disregard them for our random tree model."
   ]
  },
  {
   "cell_type": "code",
   "execution_count": 22,
   "metadata": {},
   "outputs": [
    {
     "data": {
      "image/png": "[encoded data removed]",
      "text/plain": [
       "<Figure size 864x720 with 2 Axes>"
      ]
     },
     "metadata": {
      "needs_background": "light"
     },
     "output_type": "display_data"
    }
   ],
   "source": [
    "columns = []\n",
    "fig, ax = plt.subplots(figsize=(12,10))\n",
    "for num in range(0,27):\n",
    "    columns.append(num)\n",
    "corrMatrix = df_train.iloc[:,columns].corr()\n",
    "sn.heatmap(corrMatrix, annot=False, ax=ax)\n",
    "plt.show()"
   ]
  },
  {
   "cell_type": "markdown",
   "metadata": {},
   "source": [
    "For logistic regression, we will need to deal with missing values, as the model will not do this for us. Since the only variable with missing values we decided to keep is uti_card_50plus_pct, we will need to find a way to deal with missing values for this column. Our first idea is, since utilization variables have high collinearity and are on the same scale, to combine all utilization variables into a mean utilization variable which will consider uti_card_50plus_pct only if available for the observation. To make sure this is feasable, we must first check the normality of the utilization variables. \\\n",
    "\\\n",
    "As can be seen below, the distribution of all utilization variables is approximately normal, meaning that mean utilization could be a useful variable."
   ]
  },
  {
   "cell_type": "code",
   "execution_count": 13,
   "metadata": {},
   "outputs": [
    {
     "data": {
      "text/plain": [
       "<seaborn.axisgrid.FacetGrid at 0x2126627ed30>"
      ]
     },
     "execution_count": 13,
     "metadata": {},
     "output_type": "execute_result"
    },
    {
     "data": {
      "image/png": "[encoded data removed]",
      "text/plain": [
       "<Figure size 360x360 with 1 Axes>"
      ]
     },
     "metadata": {
      "needs_background": "light"
     },
     "output_type": "display_data"
    }
   ],
   "source": [
    "sn.displot(df_train,x=\"uti_card\")"
   ]
  },
  {
   "cell_type": "code",
   "execution_count": 18,
   "metadata": {},
   "outputs": [
    {
     "data": {
      "text/plain": [
       "<seaborn.axisgrid.FacetGrid at 0x212669e4a00>"
      ]
     },
     "execution_count": 18,
     "metadata": {},
     "output_type": "execute_result"
    },
    {
     "data": {
      "image/png": "[encoded data removed]",
      "text/plain": [
       "<Figure size 360x360 with 1 Axes>"
      ]
     },
     "metadata": {
      "needs_background": "light"
     },
     "output_type": "display_data"
    }
   ],
   "source": [
    "sn.displot(df_train,x=\"uti_card_50plus_pct\")"
   ]
  },
  {
   "cell_type": "code",
   "execution_count": 15,
   "metadata": {},
   "outputs": [
    {
     "data": {
      "text/plain": [
       "<seaborn.axisgrid.FacetGrid at 0x212669ee790>"
      ]
     },
     "execution_count": 15,
     "metadata": {},
     "output_type": "execute_result"
    },
    {
     "data": {
      "image/png": "[encoded data removed]",
      "text/plain": [
       "<Figure size 360x360 with 1 Axes>"
      ]
     },
     "metadata": {
      "needs_background": "light"
     },
     "output_type": "display_data"
    }
   ],
   "source": [
    "sn.displot(df_train,x=\"uti_max_credit_line\")"
   ]
  },
  {
   "cell_type": "code",
   "execution_count": 19,
   "metadata": {},
   "outputs": [
    {
     "data": {
      "text/plain": [
       "<seaborn.axisgrid.FacetGrid at 0x212672312e0>"
      ]
     },
     "execution_count": 19,
     "metadata": {},
     "output_type": "execute_result"
    },
    {
     "data": {
      "image/png": "[encoded data removed]",
      "text/plain": [
       "<Figure size 360x360 with 1 Axes>"
      ]
     },
     "metadata": {
      "needs_background": "light"
     },
     "output_type": "display_data"
    }
   ],
   "source": [
    "sn.displot(df_train,x=\"uti_50plus_pct\")"
   ]
  },
  {
   "cell_type": "markdown",
   "metadata": {
    "id": "lmci08_uVbC-"
   },
   "source": [
    "#  **Data Preprocessing - Logistic Regression** <a name=\"sect2\"></a>"
   ]
  },
  {
   "cell_type": "markdown",
   "metadata": {},
   "source": [
    "We have already determined based on EDA which explanatory variables need to be dropped:tot_credit_debt, credit_age, credit_good_age, card_age, rep_income,inq_12_month_num."
   ]
  },
  {
   "cell_type": "code",
   "execution_count": 205,
   "metadata": {
    "id": "zP9XI5uPSGzQ"
   },
   "outputs": [],
   "source": [
    "df_train = df_train.drop(columns=[\"tot_credit_debt\", \"credit_age\", \"credit_good_age\", \"card_age\",\"rep_income\",\"inq_12_month_num\"])"
   ]
  },
  {
   "cell_type": "markdown",
   "metadata": {
    "id": "_d_pByY5SyGE"
   },
   "source": [
    "Next comes the process of combining all utilization variables into one variable, and replacing all the instances with the new overlapping variable. By taking the average utilization, we are able to preserve the available data in uti_card_50plus_pct."
   ]
  },
  {
   "cell_type": "code",
   "execution_count": 206,
   "metadata": {
    "colab": {
     "base_uri": "https://localhost:8080/"
    },
    "id": "772ums9HSxSX",
    "outputId": "4267dffe-0626-40b0-a85c-f15f4e48bb9e"
   },
   "outputs": [
    {
     "name": "stderr",
     "output_type": "stream",
     "text": [
      "<ipython-input-206-543dfd05b1c6>:3: SettingWithCopyWarning: \n",
      "A value is trying to be set on a copy of a slice from a DataFrame.\n",
      "Try using .loc[row_indexer,col_indexer] = value instead\n",
      "\n",
      "See the caveats in the documentation: https://pandas.pydata.org/pandas-docs/stable/user_guide/indexing.html#returning-a-view-versus-a-copy\n",
      "  util_credit[\"mean\"] = util_credit.mean(axis=1)\n"
     ]
    }
   ],
   "source": [
    "util_vars = [\"uti_card\", \"uti_50plus_pct\", \"uti_max_credit_line\", \"uti_card_50plus_pct\"]\n",
    "util_credit = df_train[util_vars]\n",
    "util_credit[\"mean\"] = util_credit.mean(axis=1)\n",
    "\n",
    "df_train = df_train.drop(columns=[\"uti_50plus_pct\", \"uti_max_credit_line\", \"uti_card_50plus_pct\"])\n",
    "df_train[\"uti_card\"] = util_credit[\"mean\"]\n",
    "df_train = df_train.rename(columns={\"uti_card\":\"mean_uti\"})"
   ]
  },
  {
   "cell_type": "markdown",
   "metadata": {
    "id": "ownfL2K4UCRr"
   },
   "source": [
    "Past due variables have unacceptable levels of colinearity. It makes sense to combine the non mortgage and mortgages past due 6 month variables as they span the same time period and are highly colinear. For now, the other past due variables are not dropped due to their high correlation with the response variable."
   ]
  },
  {
   "cell_type": "code",
   "execution_count": 207,
   "metadata": {
    "colab": {
     "base_uri": "https://localhost:8080/"
    },
    "id": "IyiWtqRcUwYc",
    "outputId": "71516c5e-3f2b-4939-c703-cbff641e044c"
   },
   "outputs": [
    {
     "name": "stderr",
     "output_type": "stream",
     "text": [
      "<ipython-input-207-db6338c54e88>:3: SettingWithCopyWarning: \n",
      "A value is trying to be set on a copy of a slice from a DataFrame.\n",
      "Try using .loc[row_indexer,col_indexer] = value instead\n",
      "\n",
      "See the caveats in the documentation: https://pandas.pydata.org/pandas-docs/stable/user_guide/indexing.html#returning-a-view-versus-a-copy\n",
      "  past_due_credit[\"past_due_6_months_num\"] = past_due_credit[\"non_mtg_acc_past_due_6_months_num\"] + past_due_credit[\"mortgages_past_due_6_months_num\"]\n"
     ]
    }
   ],
   "source": [
    "past_due_vars = [\"non_mtg_acc_past_due_6_months_num\", \"mortgages_past_due_6_months_num\"]\n",
    "past_due_credit = df_train[past_due_vars]\n",
    "past_due_credit[\"past_due_6_months_num\"] = past_due_credit[\"non_mtg_acc_past_due_6_months_num\"] + past_due_credit[\"mortgages_past_due_6_months_num\"] \n",
    "\n",
    "df_train = df_train.drop(columns=[\"mortgages_past_due_6_months_num\"])\n",
    "df_train[\"non_mtg_acc_past_due_6_months_num\"] = past_due_credit[\"past_due_6_months_num\"]\n",
    "df_train = df_train.rename(columns={\"non_mtg_acc_past_due_6_months_num\":\"past_due_6_months_num\"})"
   ]
  },
  {
   "cell_type": "markdown",
   "metadata": {},
   "source": [
    "We will check collinearity and multicollinearity again to see if we have reduced it to an acceptable level. \\\n",
    "\\\n",
    "While colinearity between the past due variables' colinearity is worrying, they are simply too valuable to drop for now due to their high linearity with the response variable. The VIF values give an encouraging picture, however, as values, while slightly high, are in an acceptable range (1)."
   ]
  },
  {
   "cell_type": "code",
   "execution_count": 31,
   "metadata": {},
   "outputs": [
    {
     "data": {
      "image/png": "[encoded data removed]",
      "text/plain": [
       "<Figure size 864x720 with 2 Axes>"
      ]
     },
     "metadata": {
      "needs_background": "light"
     },
     "output_type": "display_data"
    }
   ],
   "source": [
    "columns = []\n",
    "fig, ax = plt.subplots(figsize=(12,10))\n",
    "for num in range(0,17):\n",
    "    columns.append(num)\n",
    "corrMatrix = df_train.iloc[:,columns].corr()\n",
    "sn.heatmap(corrMatrix, annot=False, ax=ax)\n",
    "plt.show()"
   ]
  },
  {
   "cell_type": "code",
   "execution_count": 33,
   "metadata": {
    "colab": {
     "base_uri": "https://localhost:8080/",
     "height": 545
    },
    "id": "sz01B4d2JBiY",
    "outputId": "d918201a-c8ae-47d5-e35c-29cc116f5f3f"
   },
   "outputs": [
    {
     "data": {
      "text/html": [
       "<div>\n",
       "<style scoped>\n",
       "    .dataframe tbody tr th:only-of-type {\n",
       "        vertical-align: middle;\n",
       "    }\n",
       "\n",
       "    .dataframe tbody tr th {\n",
       "        vertical-align: top;\n",
       "    }\n",
       "\n",
       "    .dataframe thead th {\n",
       "        text-align: right;\n",
       "    }\n",
       "</style>\n",
       "<table border=\"1\" class=\"dataframe\">\n",
       "  <thead>\n",
       "    <tr style=\"text-align: right;\">\n",
       "      <th></th>\n",
       "      <th>variables</th>\n",
       "      <th>VIF</th>\n",
       "    </tr>\n",
       "  </thead>\n",
       "  <tbody>\n",
       "    <tr>\n",
       "      <th>0</th>\n",
       "      <td>avg_card_debt</td>\n",
       "      <td>1.000904</td>\n",
       "    </tr>\n",
       "    <tr>\n",
       "      <th>1</th>\n",
       "      <td>non_mtg_acc_past_due_12_months_num</td>\n",
       "      <td>4.245805</td>\n",
       "    </tr>\n",
       "    <tr>\n",
       "      <th>2</th>\n",
       "      <td>past_due_6_months_num</td>\n",
       "      <td>6.522983</td>\n",
       "    </tr>\n",
       "    <tr>\n",
       "      <th>3</th>\n",
       "      <td>credit_past_due_amount</td>\n",
       "      <td>5.945257</td>\n",
       "    </tr>\n",
       "    <tr>\n",
       "      <th>4</th>\n",
       "      <td>card_inq_24_month_num</td>\n",
       "      <td>1.004331</td>\n",
       "    </tr>\n",
       "    <tr>\n",
       "      <th>5</th>\n",
       "      <td>card_open_36_month_num</td>\n",
       "      <td>1.010175</td>\n",
       "    </tr>\n",
       "    <tr>\n",
       "      <th>6</th>\n",
       "      <td>auto_open_ 36_month_num</td>\n",
       "      <td>1.009894</td>\n",
       "    </tr>\n",
       "    <tr>\n",
       "      <th>7</th>\n",
       "      <td>mean_uti</td>\n",
       "      <td>1.004178</td>\n",
       "    </tr>\n",
       "    <tr>\n",
       "      <th>8</th>\n",
       "      <td>ind_acc_XYZ</td>\n",
       "      <td>1.002969</td>\n",
       "    </tr>\n",
       "    <tr>\n",
       "      <th>9</th>\n",
       "      <td>AL</td>\n",
       "      <td>5.388244</td>\n",
       "    </tr>\n",
       "    <tr>\n",
       "      <th>10</th>\n",
       "      <td>FL</td>\n",
       "      <td>5.303679</td>\n",
       "    </tr>\n",
       "    <tr>\n",
       "      <th>11</th>\n",
       "      <td>GA</td>\n",
       "      <td>5.263706</td>\n",
       "    </tr>\n",
       "    <tr>\n",
       "      <th>12</th>\n",
       "      <td>LA</td>\n",
       "      <td>5.365403</td>\n",
       "    </tr>\n",
       "    <tr>\n",
       "      <th>13</th>\n",
       "      <td>MS</td>\n",
       "      <td>5.287676</td>\n",
       "    </tr>\n",
       "    <tr>\n",
       "      <th>14</th>\n",
       "      <td>NC</td>\n",
       "      <td>5.340952</td>\n",
       "    </tr>\n",
       "    <tr>\n",
       "      <th>15</th>\n",
       "      <td>SC</td>\n",
       "      <td>5.242121</td>\n",
       "    </tr>\n",
       "  </tbody>\n",
       "</table>\n",
       "</div>"
      ],
      "text/plain": [
       "                             variables       VIF\n",
       "0                        avg_card_debt  1.000904\n",
       "1   non_mtg_acc_past_due_12_months_num  4.245805\n",
       "2                past_due_6_months_num  6.522983\n",
       "3               credit_past_due_amount  5.945257\n",
       "4                card_inq_24_month_num  1.004331\n",
       "5               card_open_36_month_num  1.010175\n",
       "6              auto_open_ 36_month_num  1.009894\n",
       "7                             mean_uti  1.004178\n",
       "8                          ind_acc_XYZ  1.002969\n",
       "9                                   AL  5.388244\n",
       "10                                  FL  5.303679\n",
       "11                                  GA  5.263706\n",
       "12                                  LA  5.365403\n",
       "13                                  MS  5.287676\n",
       "14                                  NC  5.340952\n",
       "15                                  SC  5.242121"
      ]
     },
     "execution_count": 33,
     "metadata": {},
     "output_type": "execute_result"
    }
   ],
   "source": [
    "columns = []\n",
    "for num in range(0,16):\n",
    "     columns.append(num)\n",
    "\n",
    "calc_vif(df_train.iloc[:,columns])"
   ]
  },
  {
   "cell_type": "markdown",
   "metadata": {
    "id": "wqbOtU9AWsrq"
   },
   "source": [
    "Last thing left to do is normalize data:"
   ]
  },
  {
   "cell_type": "code",
   "execution_count": 208,
   "metadata": {
    "id": "hc_rKt-ZWtoi"
   },
   "outputs": [],
   "source": [
    "df_train_norm=((df_train-df_train.min())/(df_train.max()-df_train.min()))*20"
   ]
  },
  {
   "cell_type": "markdown",
   "metadata": {
    "id": "WXQgRipTIg3t"
   },
   "source": [
    "Check preprocessed data: \\\n",
    "\\\n",
    "Everything seems to be in order. Time to move on to model building."
   ]
  },
  {
   "cell_type": "code",
   "execution_count": 36,
   "metadata": {
    "colab": {
     "base_uri": "https://localhost:8080/",
     "height": 419
    },
    "id": "A2yDU-4fIf_0",
    "outputId": "68707d6c-076a-4dc0-a8a7-b6f41fea6b16"
   },
   "outputs": [
    {
     "name": "stdout",
     "output_type": "stream",
     "text": [
      "<bound method NDFrame.sample of        avg_card_debt  non_mtg_acc_past_due_12_months_num  \\\n",
      "0           2.767399                                 0.0   \n",
      "1           2.010511                                 0.0   \n",
      "2           1.984746                                 0.0   \n",
      "3           1.240052                                10.0   \n",
      "4           1.689717                                 0.0   \n",
      "...              ...                                 ...   \n",
      "19995       2.364352                                 0.0   \n",
      "19996       1.630937                                 0.0   \n",
      "19997       3.170078                                 5.0   \n",
      "19998       1.860892                                 0.0   \n",
      "19999       1.575249                                 0.0   \n",
      "\n",
      "       past_due_6_months_num  credit_past_due_amount  card_inq_24_month_num  \\\n",
      "0                   0.000000                0.000000               4.444444   \n",
      "1                   0.000000                0.000000               4.444444   \n",
      "2                   0.000000                0.000000               3.333333   \n",
      "3                  13.333333                6.744002               1.111111   \n",
      "4                   0.000000                0.000000               2.222222   \n",
      "...                      ...                     ...                    ...   \n",
      "19995               0.000000                0.000000               4.444444   \n",
      "19996               0.000000                0.000000               1.111111   \n",
      "19997               0.000000                0.000000               3.333333   \n",
      "19998               0.000000                0.000000               2.222222   \n",
      "19999               0.000000                0.000000               4.444444   \n",
      "\n",
      "       card_open_36_month_num  auto_open_ 36_month_num   mean_uti  \\\n",
      "0                         0.0                      0.0   7.470849   \n",
      "1                        10.0                      0.0  10.830203   \n",
      "2                         0.0                     10.0   5.839036   \n",
      "3                        10.0                      0.0   8.470172   \n",
      "4                         0.0                      0.0  12.018333   \n",
      "...                       ...                      ...        ...   \n",
      "19995                     0.0                      0.0   9.213416   \n",
      "19996                     0.0                      0.0  12.499806   \n",
      "19997                     0.0                     10.0   9.027027   \n",
      "19998                     0.0                      0.0   4.049374   \n",
      "19999                     0.0                      0.0  10.581955   \n",
      "\n",
      "       ind_acc_XYZ    AL    FL    GA    LA   MS    NC    SC  Default_ind  \n",
      "0              0.0  20.0   0.0   0.0   0.0  0.0   0.0   0.0          0.0  \n",
      "1              0.0   0.0  20.0   0.0   0.0  0.0   0.0   0.0          0.0  \n",
      "2              0.0  20.0   0.0   0.0   0.0  0.0   0.0   0.0          0.0  \n",
      "3              0.0   0.0   0.0   0.0   0.0  0.0   0.0  20.0         20.0  \n",
      "4             20.0   0.0   0.0   0.0  20.0  0.0   0.0   0.0          0.0  \n",
      "...            ...   ...   ...   ...   ...  ...   ...   ...          ...  \n",
      "19995         20.0   0.0   0.0  20.0   0.0  0.0   0.0   0.0          0.0  \n",
      "19996          0.0   0.0   0.0   0.0   0.0  0.0  20.0   0.0          0.0  \n",
      "19997          0.0   0.0   0.0   0.0   0.0  0.0   0.0  20.0          0.0  \n",
      "19998          0.0  20.0   0.0   0.0   0.0  0.0   0.0   0.0          0.0  \n",
      "19999          0.0  20.0   0.0   0.0   0.0  0.0   0.0   0.0          0.0  \n",
      "\n",
      "[20000 rows x 17 columns]>\n",
      "(20000, 17)\n",
      "avg_card_debt                         float64\n",
      "non_mtg_acc_past_due_12_months_num    float64\n",
      "past_due_6_months_num                 float64\n",
      "credit_past_due_amount                float64\n",
      "card_inq_24_month_num                 float64\n",
      "card_open_36_month_num                float64\n",
      "auto_open_ 36_month_num               float64\n",
      "mean_uti                              float64\n",
      "ind_acc_XYZ                           float64\n",
      "AL                                    float64\n",
      "FL                                    float64\n",
      "GA                                    float64\n",
      "LA                                    float64\n",
      "MS                                    float64\n",
      "NC                                    float64\n",
      "SC                                    float64\n",
      "Default_ind                           float64\n",
      "dtype: object\n"
     ]
    }
   ],
   "source": [
    "print(df_train_norm.sample)\n",
    "print(df_train_norm.shape)\n",
    "print(df_train_norm.dtypes)"
   ]
  },
  {
   "cell_type": "markdown",
   "metadata": {
    "id": "7mlGxIB7VbNO"
   },
   "source": [
    "#  **Model Building and Testing - Logistic Regression** <a name=\"sect3\"></a>"
   ]
  },
  {
   "cell_type": "markdown",
   "metadata": {
    "id": "aYwpDFetIBd5"
   },
   "source": [
    "We will begin by performing hyper parameter optimization on the validation data set for logistic regression. In order to do this, we must manipulate the validation data set in the same way we have manipulated the training data set."
   ]
  },
  {
   "cell_type": "code",
   "execution_count": 209,
   "metadata": {
    "colab": {
     "base_uri": "https://localhost:8080/"
    },
    "id": "PqgX8khqKsmd",
    "outputId": "5c9ceda7-9d39-42cf-8334-cc815d6cbceb"
   },
   "outputs": [
    {
     "name": "stderr",
     "output_type": "stream",
     "text": [
      "<ipython-input-209-959fbd1f3629>:8: SettingWithCopyWarning: \n",
      "A value is trying to be set on a copy of a slice from a DataFrame.\n",
      "Try using .loc[row_indexer,col_indexer] = value instead\n",
      "\n",
      "See the caveats in the documentation: https://pandas.pydata.org/pandas-docs/stable/user_guide/indexing.html#returning-a-view-versus-a-copy\n",
      "  util_credit[\"mean\"] = util_credit.mean(axis=1)\n",
      "<ipython-input-209-959fbd1f3629>:14: SettingWithCopyWarning: \n",
      "A value is trying to be set on a copy of a slice from a DataFrame.\n",
      "Try using .loc[row_indexer,col_indexer] = value instead\n",
      "\n",
      "See the caveats in the documentation: https://pandas.pydata.org/pandas-docs/stable/user_guide/indexing.html#returning-a-view-versus-a-copy\n",
      "  past_due_credit[\"past_due_6_months_num\"] = past_due_credit[\"non_mtg_acc_past_due_6_months_num\"] + past_due_credit[\"mortgages_past_due_6_months_num\"]\n"
     ]
    }
   ],
   "source": [
    "dummies = pd.get_dummies(df_validation['States'])\n",
    "default_ind = df_validation['Default_ind']\n",
    "df_validation = df_validation.drop(columns=[\"Default_ind\",\"States\",\"tot_credit_debt\", \"credit_age\", \"credit_good_age\", \"card_age\",\"rep_income\",\"inq_12_month_num\"])\n",
    "df_validation = df_validation.join(dummies)\n",
    "df_validation = df_validation.join(default_ind)\n",
    "util_vars = [\"uti_card\", \"uti_50plus_pct\", \"uti_max_credit_line\", \"uti_card_50plus_pct\"]\n",
    "util_credit = df_validation[util_vars]\n",
    "util_credit[\"mean\"] = util_credit.mean(axis=1)\n",
    "df_validation = df_validation.drop(columns=[\"uti_50plus_pct\", \"uti_max_credit_line\", \"uti_card_50plus_pct\"])\n",
    "df_validation[\"uti_card\"] = util_credit[\"mean\"]\n",
    "df_validation = df_validation.rename(columns={\"uti_card\":\"mean_uti\"})\n",
    "past_due_vars = [\"non_mtg_acc_past_due_6_months_num\", \"mortgages_past_due_6_months_num\"]\n",
    "past_due_credit = df_validation[past_due_vars]\n",
    "past_due_credit[\"past_due_6_months_num\"] = past_due_credit[\"non_mtg_acc_past_due_6_months_num\"] + past_due_credit[\"mortgages_past_due_6_months_num\"] \n",
    "df_validation = df_validation.drop(columns=[\"mortgages_past_due_6_months_num\"])\n",
    "df_validation[\"non_mtg_acc_past_due_6_months_num\"] = past_due_credit[\"past_due_6_months_num\"]\n",
    "df_validation = df_validation.rename(columns={\"non_mtg_acc_past_due_6_months_num\":\"past_due_6_months_num\"})\n",
    "df_validation_norm=((df_validation-df_validation.min())/(df_validation.max()-df_validation.min()))*20"
   ]
  },
  {
   "cell_type": "markdown",
   "metadata": {},
   "source": [
    "Everything looks in order:"
   ]
  },
  {
   "cell_type": "code",
   "execution_count": 39,
   "metadata": {
    "colab": {
     "base_uri": "https://localhost:8080/",
     "height": 419
    },
    "id": "36VAzQSXM5Zx",
    "outputId": "1229a2b7-8221-4b74-ec55-808dc259c8ac"
   },
   "outputs": [
    {
     "name": "stdout",
     "output_type": "stream",
     "text": [
      "<bound method NDFrame.sample of       avg_card_debt  non_mtg_acc_past_due_12_months_num  \\\n",
      "0          1.258527                                 0.0   \n",
      "1          2.838983                                 0.0   \n",
      "2          1.565286                                 0.0   \n",
      "3          2.258434                                 0.0   \n",
      "4          2.612365                                 0.0   \n",
      "...             ...                                 ...   \n",
      "2995       1.765656                                 0.0   \n",
      "2996       2.540309                                 0.0   \n",
      "2997       1.908553                                 0.0   \n",
      "2998       2.382803                                 0.0   \n",
      "2999       1.846333                                 0.0   \n",
      "\n",
      "      past_due_6_months_num  credit_past_due_amount  card_inq_24_month_num  \\\n",
      "0                       0.0                     0.0               0.000000   \n",
      "1                       0.0                     0.0              10.769231   \n",
      "2                       0.0                     0.0               4.615385   \n",
      "3                       0.0                     0.0               1.538462   \n",
      "4                       0.0                     0.0              13.846154   \n",
      "...                     ...                     ...                    ...   \n",
      "2995                    0.0                     0.0               0.000000   \n",
      "2996                    0.0                     0.0               0.000000   \n",
      "2997                    0.0                     0.0               6.153846   \n",
      "2998                    0.0                     0.0               3.076923   \n",
      "2999                    0.0                     0.0              10.769231   \n",
      "\n",
      "      card_open_36_month_num  auto_open_ 36_month_num   mean_uti  ind_acc_XYZ  \\\n",
      "0                        0.0                      0.0  14.171756          0.0   \n",
      "1                        0.0                     10.0   9.861754          0.0   \n",
      "2                        0.0                      0.0  10.139092          0.0   \n",
      "3                        0.0                      0.0  13.427118          0.0   \n",
      "4                        0.0                      0.0  14.453941         20.0   \n",
      "...                      ...                      ...        ...          ...   \n",
      "2995                     0.0                     10.0  15.295818          0.0   \n",
      "2996                     0.0                     10.0  13.714113          0.0   \n",
      "2997                     0.0                      0.0  15.768993          0.0   \n",
      "2998                     0.0                     10.0  12.947497         20.0   \n",
      "2999                    10.0                     10.0  17.795304          0.0   \n",
      "\n",
      "        AL    FL   GA    LA    MS    NC   SC  Default_ind  \n",
      "0      0.0  20.0  0.0   0.0   0.0   0.0  0.0         20.0  \n",
      "1      0.0   0.0  0.0   0.0  20.0   0.0  0.0          0.0  \n",
      "2      0.0   0.0  0.0   0.0  20.0   0.0  0.0          0.0  \n",
      "3      0.0   0.0  0.0   0.0  20.0   0.0  0.0          0.0  \n",
      "4      0.0   0.0  0.0   0.0   0.0  20.0  0.0          0.0  \n",
      "...    ...   ...  ...   ...   ...   ...  ...          ...  \n",
      "2995   0.0  20.0  0.0   0.0   0.0   0.0  0.0          0.0  \n",
      "2996  20.0   0.0  0.0   0.0   0.0   0.0  0.0          0.0  \n",
      "2997   0.0   0.0  0.0  20.0   0.0   0.0  0.0          0.0  \n",
      "2998   0.0   0.0  0.0   0.0   0.0  20.0  0.0          0.0  \n",
      "2999   0.0   0.0  0.0   0.0  20.0   0.0  0.0          0.0  \n",
      "\n",
      "[3000 rows x 17 columns]>\n",
      "(3000, 17)\n",
      "avg_card_debt                         float64\n",
      "non_mtg_acc_past_due_12_months_num    float64\n",
      "past_due_6_months_num                 float64\n",
      "credit_past_due_amount                float64\n",
      "card_inq_24_month_num                 float64\n",
      "card_open_36_month_num                float64\n",
      "auto_open_ 36_month_num               float64\n",
      "mean_uti                              float64\n",
      "ind_acc_XYZ                           float64\n",
      "AL                                    float64\n",
      "FL                                    float64\n",
      "GA                                    float64\n",
      "LA                                    float64\n",
      "MS                                    float64\n",
      "NC                                    float64\n",
      "SC                                    float64\n",
      "Default_ind                           float64\n",
      "dtype: object\n"
     ]
    }
   ],
   "source": [
    "print(df_validation_norm.sample)\n",
    "print(df_validation_norm.shape)\n",
    "print(df_validation_norm.dtypes)"
   ]
  },
  {
   "cell_type": "markdown",
   "metadata": {},
   "source": [
    "We will now perform hyperparamter tuning using our validation data set (2a). \\\n",
    "\\\n",
    "The parameters we have chosen are:\n",
    "- solvers: newtown conjugate gradient, limited memory bfgs, and liblinear\n",
    "- penalty: l2 only (since it works for all three solvers)\n",
    "- C values: 100, 10, 1.0, 0.1, 0.01"
   ]
  },
  {
   "cell_type": "code",
   "execution_count": 210,
   "metadata": {
    "colab": {
     "base_uri": "https://localhost:8080/"
    },
    "id": "_abuH486V4aG",
    "outputId": "81a7e336-5174-41e5-cac0-bea11e0c9c28"
   },
   "outputs": [
    {
     "name": "stdout",
     "output_type": "stream",
     "text": [
      "Best: 0.937778 using {'C': 0.1, 'penalty': 'l2', 'solver': 'liblinear'}\n",
      "0.937667 (0.009195) with: {'C': 100, 'penalty': 'l2', 'solver': 'newton-cg'}\n",
      "0.937667 (0.009195) with: {'C': 100, 'penalty': 'l2', 'solver': 'lbfgs'}\n",
      "0.937667 (0.009195) with: {'C': 100, 'penalty': 'l2', 'solver': 'liblinear'}\n",
      "0.937667 (0.009195) with: {'C': 10, 'penalty': 'l2', 'solver': 'newton-cg'}\n",
      "0.937667 (0.009195) with: {'C': 10, 'penalty': 'l2', 'solver': 'lbfgs'}\n",
      "0.937667 (0.009195) with: {'C': 10, 'penalty': 'l2', 'solver': 'liblinear'}\n",
      "0.937667 (0.009195) with: {'C': 1.0, 'penalty': 'l2', 'solver': 'newton-cg'}\n",
      "0.937667 (0.009195) with: {'C': 1.0, 'penalty': 'l2', 'solver': 'lbfgs'}\n",
      "0.937667 (0.009195) with: {'C': 1.0, 'penalty': 'l2', 'solver': 'liblinear'}\n",
      "0.937667 (0.009195) with: {'C': 0.1, 'penalty': 'l2', 'solver': 'newton-cg'}\n",
      "0.937667 (0.009195) with: {'C': 0.1, 'penalty': 'l2', 'solver': 'lbfgs'}\n",
      "0.937778 (0.009081) with: {'C': 0.1, 'penalty': 'l2', 'solver': 'liblinear'}\n",
      "0.937778 (0.008664) with: {'C': 0.01, 'penalty': 'l2', 'solver': 'newton-cg'}\n",
      "0.937778 (0.008664) with: {'C': 0.01, 'penalty': 'l2', 'solver': 'lbfgs'}\n",
      "0.936667 (0.008300) with: {'C': 0.01, 'penalty': 'l2', 'solver': 'liblinear'}\n"
     ]
    }
   ],
   "source": [
    "model = LogisticRegression()\n",
    "solvers = ['newton-cg', 'lbfgs', 'liblinear']\n",
    "penalty = ['l2']\n",
    "c_values = [100, 10, 1.0, 0.1, 0.01]\n",
    "grid = dict(solver=solvers,penalty=penalty,C=c_values)\n",
    "cv = RepeatedStratifiedKFold(n_splits=10, n_repeats=3, random_state=1)\n",
    "grid_search = GridSearchCV(estimator=model, param_grid=grid, n_jobs=-1, cv=cv, scoring='accuracy',error_score=0)\n",
    "grid_result = grid_search.fit(df_validation_norm.iloc[:,range(0,16)], df_validation_norm.iloc[:,16])\n",
    "print(\"Best: %f using %s\" % (grid_result.best_score_, grid_result.best_params_))\n",
    "means = grid_result.cv_results_['mean_test_score']\n",
    "stds = grid_result.cv_results_['std_test_score']\n",
    "params = grid_result.cv_results_['params']\n",
    "for mean, stdev, param in zip(means, stds, params):\n",
    "    print(\"%f (%f) with: %r\" % (mean, stdev, param))"
   ]
  },
  {
   "cell_type": "markdown",
   "metadata": {},
   "source": [
    "Based on this, the most accurate model has the following hyperparameters:\n",
    "- solver: liblinear\n",
    "- penalty: l2\n",
    "- C value: 0.1"
   ]
  },
  {
   "cell_type": "markdown",
   "metadata": {
    "id": "ISuCp2EfMenk"
   },
   "source": [
    "Train model based on chosen hyperparameters using the train data set:"
   ]
  },
  {
   "cell_type": "code",
   "execution_count": 211,
   "metadata": {
    "id": "efN2GSZOWwI3"
   },
   "outputs": [],
   "source": [
    "lrModel = LogisticRegression(C = 0.1, penalty = \"l2\",solver=\"liblinear\")\n",
    "lrModel = lrModel.fit(df_train_norm.iloc[:,range(0,16)], df_train_norm.iloc[:,16])"
   ]
  },
  {
   "cell_type": "markdown",
   "metadata": {
    "id": "VV8gnkjJYYGB"
   },
   "source": [
    "Transforming test data to match training data:"
   ]
  },
  {
   "cell_type": "code",
   "execution_count": 212,
   "metadata": {
    "colab": {
     "base_uri": "https://localhost:8080/"
    },
    "id": "aUYDo27fYXzN",
    "outputId": "210568e6-4a3c-493f-d27d-95d67c020f27"
   },
   "outputs": [
    {
     "name": "stderr",
     "output_type": "stream",
     "text": [
      "<ipython-input-212-fd2b47dd7047>:8: SettingWithCopyWarning: \n",
      "A value is trying to be set on a copy of a slice from a DataFrame.\n",
      "Try using .loc[row_indexer,col_indexer] = value instead\n",
      "\n",
      "See the caveats in the documentation: https://pandas.pydata.org/pandas-docs/stable/user_guide/indexing.html#returning-a-view-versus-a-copy\n",
      "  util_credit[\"mean\"] = util_credit.mean(axis=1)\n",
      "<ipython-input-212-fd2b47dd7047>:14: SettingWithCopyWarning: \n",
      "A value is trying to be set on a copy of a slice from a DataFrame.\n",
      "Try using .loc[row_indexer,col_indexer] = value instead\n",
      "\n",
      "See the caveats in the documentation: https://pandas.pydata.org/pandas-docs/stable/user_guide/indexing.html#returning-a-view-versus-a-copy\n",
      "  past_due_credit[\"past_due_6_months_num\"] = past_due_credit[\"non_mtg_acc_past_due_6_months_num\"] + past_due_credit[\"mortgages_past_due_6_months_num\"]\n"
     ]
    }
   ],
   "source": [
    "dummies = pd.get_dummies(df_test['States'])\n",
    "default_ind = df_test['Default_ind']\n",
    "df_test = df_test.drop(columns=[\"Default_ind\",\"States\",\"tot_credit_debt\", \"credit_age\", \"credit_good_age\", \"card_age\",\"rep_income\",\"inq_12_month_num\"])\n",
    "df_test = df_test.join(dummies)\n",
    "df_test = df_test.join(default_ind)\n",
    "util_vars = [\"uti_card\", \"uti_50plus_pct\", \"uti_max_credit_line\", \"uti_card_50plus_pct\"]\n",
    "util_credit = df_test[util_vars]\n",
    "util_credit[\"mean\"] = util_credit.mean(axis=1)\n",
    "df_test = df_test.drop(columns=[\"uti_50plus_pct\", \"uti_max_credit_line\", \"uti_card_50plus_pct\"])\n",
    "df_test[\"uti_card\"] = util_credit[\"mean\"]\n",
    "df_test = df_test.rename(columns={\"uti_card\":\"mean_uti\"})\n",
    "past_due_vars = [\"non_mtg_acc_past_due_6_months_num\", \"mortgages_past_due_6_months_num\"]\n",
    "past_due_credit = df_test[past_due_vars]\n",
    "past_due_credit[\"past_due_6_months_num\"] = past_due_credit[\"non_mtg_acc_past_due_6_months_num\"] + past_due_credit[\"mortgages_past_due_6_months_num\"] \n",
    "df_test = df_test.drop(columns=[\"mortgages_past_due_6_months_num\"])\n",
    "df_test[\"non_mtg_acc_past_due_6_months_num\"] = past_due_credit[\"past_due_6_months_num\"]\n",
    "df_test = df_test.rename(columns={\"non_mtg_acc_past_due_6_months_num\":\"past_due_6_months_num\"})\n",
    "df_test_norm=((df_test-df_test.min())/(df_test.max()-df_test.min()))*20"
   ]
  },
  {
   "cell_type": "markdown",
   "metadata": {},
   "source": [
    "Check data:"
   ]
  },
  {
   "cell_type": "code",
   "execution_count": 43,
   "metadata": {},
   "outputs": [
    {
     "name": "stdout",
     "output_type": "stream",
     "text": [
      "<bound method NDFrame.sample of       avg_card_debt  non_mtg_acc_past_due_12_months_num  \\\n",
      "0          0.723813                                 0.0   \n",
      "1          2.571408                                 0.0   \n",
      "2          2.007778                                 0.0   \n",
      "3          2.326841                                 0.0   \n",
      "4          2.071129                                 0.0   \n",
      "...             ...                                 ...   \n",
      "4995       1.534659                                 0.0   \n",
      "4996       2.550137                                 0.0   \n",
      "4997       1.506616                                 0.0   \n",
      "4998       1.193691                                 0.0   \n",
      "4999       2.871439                                 0.0   \n",
      "\n",
      "      past_due_6_months_num  credit_past_due_amount  card_inq_24_month_num  \\\n",
      "0                       0.0                     0.0               5.333333   \n",
      "1                       0.0                     0.0               5.333333   \n",
      "2                       0.0                     0.0               1.333333   \n",
      "3                       0.0                     0.0               0.000000   \n",
      "4                       0.0                     0.0               0.000000   \n",
      "...                     ...                     ...                    ...   \n",
      "4995                    0.0                     0.0               5.333333   \n",
      "4996                    0.0                     0.0               6.666667   \n",
      "4997                    0.0                     0.0               6.666667   \n",
      "4998                    0.0                     0.0               2.666667   \n",
      "4999                    0.0                     0.0              10.666667   \n",
      "\n",
      "      card_open_36_month_num  auto_open_ 36_month_num   mean_uti  ind_acc_XYZ  \\\n",
      "0                        0.0                     10.0  13.749481          0.0   \n",
      "1                        0.0                      0.0  15.757954         20.0   \n",
      "2                        0.0                      0.0   8.624625          0.0   \n",
      "3                        0.0                      0.0   9.514111         20.0   \n",
      "4                        0.0                      0.0  12.012403          0.0   \n",
      "...                      ...                      ...        ...          ...   \n",
      "4995                     0.0                      0.0  10.194068          0.0   \n",
      "4996                     0.0                      0.0   6.574378         20.0   \n",
      "4997                    10.0                     10.0   9.373143         20.0   \n",
      "4998                     0.0                      0.0   0.907474          0.0   \n",
      "4999                    10.0                      0.0  12.528196          0.0   \n",
      "\n",
      "        AL    FL    GA    LA    MS   NC    SC  Default_ind  \n",
      "0      0.0  20.0   0.0   0.0   0.0  0.0   0.0          0.0  \n",
      "1     20.0   0.0   0.0   0.0   0.0  0.0   0.0          0.0  \n",
      "2      0.0   0.0   0.0   0.0  20.0  0.0   0.0          0.0  \n",
      "3     20.0   0.0   0.0   0.0   0.0  0.0   0.0          0.0  \n",
      "4      0.0   0.0  20.0   0.0   0.0  0.0   0.0          0.0  \n",
      "...    ...   ...   ...   ...   ...  ...   ...          ...  \n",
      "4995   0.0   0.0   0.0  20.0   0.0  0.0   0.0          0.0  \n",
      "4996   0.0   0.0   0.0   0.0   0.0  0.0  20.0          0.0  \n",
      "4997   0.0   0.0   0.0  20.0   0.0  0.0   0.0          0.0  \n",
      "4998   0.0   0.0   0.0   0.0  20.0  0.0   0.0          0.0  \n",
      "4999   0.0   0.0   0.0   0.0  20.0  0.0   0.0          0.0  \n",
      "\n",
      "[5000 rows x 17 columns]>\n",
      "(5000, 17)\n",
      "avg_card_debt                         float64\n",
      "non_mtg_acc_past_due_12_months_num    float64\n",
      "past_due_6_months_num                 float64\n",
      "credit_past_due_amount                float64\n",
      "card_inq_24_month_num                 float64\n",
      "card_open_36_month_num                float64\n",
      "auto_open_ 36_month_num               float64\n",
      "mean_uti                              float64\n",
      "ind_acc_XYZ                           float64\n",
      "AL                                    float64\n",
      "FL                                    float64\n",
      "GA                                    float64\n",
      "LA                                    float64\n",
      "MS                                    float64\n",
      "NC                                    float64\n",
      "SC                                    float64\n",
      "Default_ind                           float64\n",
      "dtype: object\n"
     ]
    }
   ],
   "source": [
    "print(df_test_norm.sample)\n",
    "print(df_test_norm.shape)\n",
    "print(df_test_norm.dtypes)"
   ]
  },
  {
   "cell_type": "markdown",
   "metadata": {
    "id": "ipi2vNONOcym"
   },
   "source": [
    "Scoring test data:"
   ]
  },
  {
   "cell_type": "code",
   "execution_count": 139,
   "metadata": {
    "colab": {
     "base_uri": "https://localhost:8080/"
    },
    "id": "PyDFi1NcOh9I",
    "outputId": "0b1510dd-6434-413c-c761-a5c329cf2010"
   },
   "outputs": [
    {
     "data": {
      "text/plain": [
       "0.9358"
      ]
     },
     "execution_count": 139,
     "metadata": {},
     "output_type": "execute_result"
    }
   ],
   "source": [
    "lrModel.score(df_test_norm.iloc[:,range(0,16)], df_test_norm.iloc[:,16])"
   ]
  },
  {
   "cell_type": "markdown",
   "metadata": {
    "id": "PWBYp9Z4ZtGE"
   },
   "source": [
    "Testing with a confusion matrix:"
   ]
  },
  {
   "cell_type": "code",
   "execution_count": 140,
   "metadata": {
    "colab": {
     "base_uri": "https://localhost:8080/"
    },
    "id": "9jnHO0w7ZqDc",
    "outputId": "e80a1a2d-de0f-44f1-81c1-a370c4900587"
   },
   "outputs": [
    {
     "data": {
      "text/plain": [
       "array([[4552,   47],\n",
       "       [ 274,  127]], dtype=int64)"
      ]
     },
     "execution_count": 140,
     "metadata": {},
     "output_type": "execute_result"
    }
   ],
   "source": [
    "confusion_matrix(df_test_norm.iloc[:,16],lrModel.predict(df_test_norm.iloc[:,range(0,16)]))"
   ]
  },
  {
   "cell_type": "markdown",
   "metadata": {},
   "source": [
    "Interpreting logistic regression model using ROC curve (2b):"
   ]
  },
  {
   "cell_type": "code",
   "execution_count": 131,
   "metadata": {},
   "outputs": [
    {
     "data": {
      "image/png": "[encoded data removed]",
      "text/plain": [
       "<Figure size 432x288 with 1 Axes>"
      ]
     },
     "metadata": {
      "needs_background": "light"
     },
     "output_type": "display_data"
    }
   ],
   "source": [
    "lr_probs = lr.predict_proba(df_test_norm.iloc[:,range(0,16)])\n",
    "lr_probs = lr_probs[:, 1]\n",
    "lr_fpr, lr_tpr, _ = roc_curve(df_test_norm.iloc[:,16], lr_probs, pos_label = 20.0)\n",
    "plt.plot(lr_fpr, lr_tpr, marker='.', label='Logistic Regression Classifier')\n",
    "plt.xlabel('False Positive Rate')\n",
    "plt.ylabel('True Positive Rate')\n",
    "plt.legend()\n",
    "plt.show()"
   ]
  },
  {
   "cell_type": "markdown",
   "metadata": {},
   "source": [
    "Find feature importance (2c): \\\n",
    "\\\n",
    "A positive score indicates the greater the value of the feature, the more likely the person is to default, while a negative score indicates the greater the value of the feature, the less likely the person is to default. \\\n",
    "\\\n",
    "A high absolute score indicates strong importance in model, while a low absolute score indicates weak importance in model. \\\n",
    "\\\n",
    "Important Notes: \n",
    "- Having had an account in XYZ does not seem to impact the model by much\n",
    "- Average card debt, past due variables for 12 and 6 months, and utilization variables seem to have the greatest impact\n",
    "- Although the state variables seem to cause a great impact, in reality each observation must be one of them, and thus, the difference between them is the only thing that matters for interpretation. In this case, since the importance of all state variables is very close overall, it seems that states do not have a great deal of impact on model prediction"
   ]
  },
  {
   "cell_type": "code",
   "execution_count": 179,
   "metadata": {},
   "outputs": [
    {
     "name": "stdout",
     "output_type": "stream",
     "text": [
      "Feature: avg_card_debt\n",
      " Score: 0.1499596391270964\n",
      "\n",
      "\n",
      "Feature: non_mtg_acc_past_due_12_months_num\n",
      " Score: 0.23556759045910966\n",
      "\n",
      "\n",
      "Feature: past_due_6_months_num\n",
      " Score: 0.1542133033538216\n",
      "\n",
      "\n",
      "Feature: credit_past_due_amount\n",
      " Score: -0.04906488819908006\n",
      "\n",
      "\n",
      "Feature: card_inq_24_month_num\n",
      " Score: 0.08606432328090474\n",
      "\n",
      "\n",
      "Feature: card_open_36_month_num\n",
      " Score: 0.016807004273557042\n",
      "\n",
      "\n",
      "Feature: auto_open_ 36_month_num\n",
      " Score: 0.006285595831829881\n",
      "\n",
      "\n",
      "Feature: mean_uti\n",
      " Score: 0.27185106310181156\n",
      "\n",
      "\n",
      "Feature: ind_acc_XYZ\n",
      " Score: -0.013710761590003758\n",
      "\n",
      "\n",
      "Feature: AL\n",
      " Score: -0.3130380831427379\n",
      "\n",
      "\n",
      "Feature: FL\n",
      " Score: -0.317889156327858\n",
      "\n",
      "\n",
      "Feature: GA\n",
      " Score: -0.318481497908399\n",
      "\n",
      "\n",
      "Feature: LA\n",
      " Score: -0.31415871337745066\n",
      "\n",
      "\n",
      "Feature: MS\n",
      " Score: -0.3113582401283215\n",
      "\n",
      "\n",
      "Feature: NC\n",
      " Score: -0.31565900138163133\n",
      "\n",
      "\n",
      "Feature: SC\n",
      " Score: -0.3103977152431603\n",
      "\n",
      "\n"
     ]
    },
    {
     "data": {
      "image/png": "[encoded data removed]",
      "text/plain": [
       "<Figure size 432x288 with 1 Axes>"
      ]
     },
     "metadata": {
      "needs_background": "light"
     },
     "output_type": "display_data"
    }
   ],
   "source": [
    "variables = []\n",
    "for var in df_train_norm.columns:\n",
    "    variables.append(var)\n",
    "importance = lrModel.coef_[0]\n",
    "index = 0\n",
    "for i,v in enumerate(importance):\n",
    "    print('Feature: {variable}\\n Score: {v}\\n\\n'.format(variable = variables[index],v = v))\n",
    "    index += 1\n",
    "plt.bar([x for x in range(len(importance))], importance)\n",
    "plt.show()"
   ]
  },
  {
   "cell_type": "markdown",
   "metadata": {
    "id": "P7WwTLV2VbSe"
   },
   "source": [
    "#  **Data Preprocessing - Random Forests** <a name=\"sect4\"></a>"
   ]
  },
  {
   "cell_type": "markdown",
   "metadata": {},
   "source": [
    "We will reimport the data since we will be using a different approach to data preprocessing in preperation of random forest model."
   ]
  },
  {
   "cell_type": "code",
   "execution_count": 144,
   "metadata": {
    "id": "DsAM-wH4V4wR"
   },
   "outputs": [],
   "source": [
    "df_test = pd.read_csv('Simulated_Data_Test.csv')\n",
    "df_train = pd.read_csv('Simulated_Data_Train.csv')\n",
    "df_validation = pd.read_csv('Simulated_Data_Validation.csv')"
   ]
  },
  {
   "cell_type": "markdown",
   "metadata": {},
   "source": [
    "Based on EDA, we have determined which explanatory variables need to be dropped: rep_income, credit_age, credit_good_age, and card_age."
   ]
  },
  {
   "cell_type": "code",
   "execution_count": 145,
   "metadata": {},
   "outputs": [],
   "source": [
    "df_train = df_train.drop(columns=[\"credit_age\", \"credit_good_age\", \"card_age\",\"rep_income\"])"
   ]
  },
  {
   "cell_type": "markdown",
   "metadata": {},
   "source": [
    "Next, let's create dummy variables for states"
   ]
  },
  {
   "cell_type": "code",
   "execution_count": 146,
   "metadata": {},
   "outputs": [],
   "source": [
    "dummies = pd.get_dummies(df_train['States'])\n",
    "default_ind = df_train['Default_ind']\n",
    "df_train = df_train.drop(columns=['States', 'Default_ind'])\n",
    "df_train = df_train.join(dummies)\n",
    "df_train = df_train.join(default_ind)"
   ]
  },
  {
   "cell_type": "markdown",
   "metadata": {},
   "source": [
    "We need to get rid of NA values next. let's check how many there are:"
   ]
  },
  {
   "cell_type": "code",
   "execution_count": 147,
   "metadata": {},
   "outputs": [
    {
     "name": "stdout",
     "output_type": "stream",
     "text": [
      "tot_credit_debt                          0\n",
      "avg_card_debt                            0\n",
      "non_mtg_acc_past_due_12_months_num       0\n",
      "non_mtg_acc_past_due_6_months_num        0\n",
      "mortgages_past_due_6_months_num          0\n",
      "credit_past_due_amount                   0\n",
      "inq_12_month_num                         0\n",
      "card_inq_24_month_num                    0\n",
      "card_open_36_month_num                   0\n",
      "auto_open_ 36_month_num                  0\n",
      "uti_card                                 0\n",
      "uti_50plus_pct                           0\n",
      "uti_max_credit_line                      0\n",
      "uti_card_50plus_pct                   2055\n",
      "ind_acc_XYZ                              0\n",
      "AL                                       0\n",
      "FL                                       0\n",
      "GA                                       0\n",
      "LA                                       0\n",
      "MS                                       0\n",
      "NC                                       0\n",
      "SC                                       0\n",
      "Default_ind                              0\n",
      "dtype: int64\n"
     ]
    }
   ],
   "source": [
    "print(df_train.isnull().sum())"
   ]
  },
  {
   "cell_type": "markdown",
   "metadata": {},
   "source": [
    "We want to preserve the utilization features as we are not concenred with collinearity for this model. Thus, we have two options:\n",
    "- Remove observations or column with missing values.\n",
    "- Impute missing values for uti_card_50plus_pct\n",
    "\n",
    "Removing observations will rid us of 10% of our data, which is not ideal. Removing uti_card_50plus_pct is detrimental since we will be getting rid of a feature which is highly correlated with the response variable. Thus we decide to impute the missing values of uti_card_50plus_pct. \\\n",
    "\\\n",
    "We know uti_card_50plus_pct is highly collinear with the other utilization features. Therefore, we will be using simple mean impuation with the utilization variables."
   ]
  },
  {
   "cell_type": "code",
   "execution_count": 148,
   "metadata": {},
   "outputs": [],
   "source": [
    "imputer = SingleImputer(\n",
    "strategy='mean',\n",
    "predictors=['uti_max_credit_line','uti_50plus_pct','uti_card'],\n",
    "seed = 100)\n",
    "imputed_df_train = imputer.fit_transform(df_train)"
   ]
  },
  {
   "cell_type": "markdown",
   "metadata": {},
   "source": [
    "Check if imputation was succesful:"
   ]
  },
  {
   "cell_type": "code",
   "execution_count": 149,
   "metadata": {},
   "outputs": [
    {
     "name": "stdout",
     "output_type": "stream",
     "text": [
      "tot_credit_debt                       0\n",
      "avg_card_debt                         0\n",
      "non_mtg_acc_past_due_12_months_num    0\n",
      "non_mtg_acc_past_due_6_months_num     0\n",
      "mortgages_past_due_6_months_num       0\n",
      "credit_past_due_amount                0\n",
      "inq_12_month_num                      0\n",
      "card_inq_24_month_num                 0\n",
      "card_open_36_month_num                0\n",
      "auto_open_ 36_month_num               0\n",
      "uti_card                              0\n",
      "uti_50plus_pct                        0\n",
      "uti_max_credit_line                   0\n",
      "uti_card_50plus_pct                   0\n",
      "ind_acc_XYZ                           0\n",
      "AL                                    0\n",
      "FL                                    0\n",
      "GA                                    0\n",
      "LA                                    0\n",
      "MS                                    0\n",
      "NC                                    0\n",
      "SC                                    0\n",
      "Default_ind                           0\n",
      "dtype: int64\n"
     ]
    }
   ],
   "source": [
    "print(imputed_df_train.isnull().sum())"
   ]
  },
  {
   "cell_type": "markdown",
   "metadata": {},
   "source": [
    "Check data: \\\n",
    "\\\n",
    "Everything looks ready for the model."
   ]
  },
  {
   "cell_type": "code",
   "execution_count": 150,
   "metadata": {},
   "outputs": [
    {
     "name": "stdout",
     "output_type": "stream",
     "text": [
      "<bound method NDFrame.sample of        tot_credit_debt  avg_card_debt  non_mtg_acc_past_due_12_months_num  \\\n",
      "0             80826.71       15872.99                                 0.0   \n",
      "1             96052.60       12178.02                                 0.0   \n",
      "2             75212.76       12052.24                                 0.0   \n",
      "3             70727.84        8416.80                                 2.0   \n",
      "4             41604.47       10611.97                                 0.0   \n",
      "...                ...            ...                                 ...   \n",
      "19995        104765.01       13905.40                                 0.0   \n",
      "19996         83990.07       10325.02                                 0.0   \n",
      "19997        107606.69       17838.79                                 1.0   \n",
      "19998         78787.72       11447.61                                 0.0   \n",
      "19999         78296.90       10053.16                                 0.0   \n",
      "\n",
      "       non_mtg_acc_past_due_6_months_num  mortgages_past_due_6_months_num  \\\n",
      "0                                    0.0                              0.0   \n",
      "1                                    0.0                              0.0   \n",
      "2                                    0.0                              0.0   \n",
      "3                                    1.0                              1.0   \n",
      "4                                    0.0                              0.0   \n",
      "...                                  ...                              ...   \n",
      "19995                                0.0                              0.0   \n",
      "19996                                0.0                              0.0   \n",
      "19997                                0.0                              0.0   \n",
      "19998                                0.0                              0.0   \n",
      "19999                                0.0                              0.0   \n",
      "\n",
      "       credit_past_due_amount  inq_12_month_num  card_inq_24_month_num  \\\n",
      "0                        0.00               3.0                    4.0   \n",
      "1                        0.00               2.0                    4.0   \n",
      "2                        0.00               1.0                    3.0   \n",
      "3                    11013.96               0.0                    1.0   \n",
      "4                        0.00               0.0                    2.0   \n",
      "...                       ...               ...                    ...   \n",
      "19995                    0.00               4.0                    4.0   \n",
      "19996                    0.00               0.0                    1.0   \n",
      "19997                    0.00               3.0                    3.0   \n",
      "19998                    0.00               1.0                    2.0   \n",
      "19999                    0.00               2.0                    4.0   \n",
      "\n",
      "       card_open_36_month_num  auto_open_ 36_month_num  ...  \\\n",
      "0                         0.0                      0.0  ...   \n",
      "1                         1.0                      0.0  ...   \n",
      "2                         0.0                      1.0  ...   \n",
      "3                         1.0                      0.0  ...   \n",
      "4                         0.0                      0.0  ...   \n",
      "...                       ...                      ...  ...   \n",
      "19995                     0.0                      0.0  ...   \n",
      "19996                     0.0                      0.0  ...   \n",
      "19997                     0.0                      1.0  ...   \n",
      "19998                     0.0                      0.0  ...   \n",
      "19999                     0.0                      0.0  ...   \n",
      "\n",
      "       uti_card_50plus_pct  ind_acc_XYZ  AL  FL  GA  LA  MS  NC  SC  \\\n",
      "0                 0.489594          0.0   1   0   0   0   0   0   0   \n",
      "1                 0.587351          0.0   0   1   0   0   0   0   0   \n",
      "2                 0.413293          0.0   1   0   0   0   0   0   0   \n",
      "3                 0.466810          0.0   0   0   0   0   0   0   1   \n",
      "4                 0.588442          1.0   0   0   0   1   0   0   0   \n",
      "...                    ...          ...  ..  ..  ..  ..  ..  ..  ..   \n",
      "19995             0.481113          1.0   0   0   1   0   0   0   0   \n",
      "19996             0.489594          0.0   0   0   0   0   0   1   0   \n",
      "19997             0.463120          0.0   0   0   0   0   0   0   1   \n",
      "19998             0.281647          0.0   1   0   0   0   0   0   0   \n",
      "19999             0.512513          0.0   1   0   0   0   0   0   0   \n",
      "\n",
      "       Default_ind  \n",
      "0              0.0  \n",
      "1              0.0  \n",
      "2              0.0  \n",
      "3              1.0  \n",
      "4              0.0  \n",
      "...            ...  \n",
      "19995          0.0  \n",
      "19996          0.0  \n",
      "19997          0.0  \n",
      "19998          0.0  \n",
      "19999          0.0  \n",
      "\n",
      "[20000 rows x 23 columns]>\n",
      "(20000, 23)\n",
      "tot_credit_debt                       float64\n",
      "avg_card_debt                         float64\n",
      "non_mtg_acc_past_due_12_months_num    float64\n",
      "non_mtg_acc_past_due_6_months_num     float64\n",
      "mortgages_past_due_6_months_num       float64\n",
      "credit_past_due_amount                float64\n",
      "inq_12_month_num                      float64\n",
      "card_inq_24_month_num                 float64\n",
      "card_open_36_month_num                float64\n",
      "auto_open_ 36_month_num               float64\n",
      "uti_card                              float64\n",
      "uti_50plus_pct                        float64\n",
      "uti_max_credit_line                   float64\n",
      "uti_card_50plus_pct                   float64\n",
      "ind_acc_XYZ                           float64\n",
      "AL                                      uint8\n",
      "FL                                      uint8\n",
      "GA                                      uint8\n",
      "LA                                      uint8\n",
      "MS                                      uint8\n",
      "NC                                      uint8\n",
      "SC                                      uint8\n",
      "Default_ind                           float64\n",
      "dtype: object\n"
     ]
    }
   ],
   "source": [
    "print(imputed_df_train.sample)\n",
    "print(imputed_df_train.shape)\n",
    "print(imputed_df_train.dtypes)"
   ]
  },
  {
   "cell_type": "markdown",
   "metadata": {
    "id": "N357A2RwU-R5"
   },
   "source": [
    "# **Model Building and Testing - Random Forests** <a name=\"sect5\"></a>"
   ]
  },
  {
   "cell_type": "markdown",
   "metadata": {},
   "source": [
    "We will firstly preprocess the validation data set in same way as train set to prepare for hyperparameter tuning."
   ]
  },
  {
   "cell_type": "code",
   "execution_count": 151,
   "metadata": {},
   "outputs": [],
   "source": [
    "df_validation = df_validation.drop(columns=[\"credit_age\", \"credit_good_age\", \"card_age\",\"rep_income\"])\n",
    "dummies = pd.get_dummies(df_validation['States'])\n",
    "default_ind = df_validation['Default_ind']\n",
    "df_validation = df_validation.drop(columns=['States', 'Default_ind'])\n",
    "df_validation = df_validation.join(dummies)\n",
    "df_validation = df_validation.join(default_ind)\n",
    "imputed_df_validation = imputer.fit_transform(df_validation)"
   ]
  },
  {
   "cell_type": "markdown",
   "metadata": {},
   "source": [
    "Check validation data: \\\n",
    "\\\n",
    "Everything looks in order."
   ]
  },
  {
   "cell_type": "code",
   "execution_count": 152,
   "metadata": {},
   "outputs": [
    {
     "name": "stdout",
     "output_type": "stream",
     "text": [
      "<bound method NDFrame.sample of       tot_credit_debt  avg_card_debt  non_mtg_acc_past_due_12_months_num  \\\n",
      "0            63651.27        9019.99                                 0.0   \n",
      "1           105559.29       16692.19                                 0.0   \n",
      "2            96062.99       10509.13                                 0.0   \n",
      "3            84417.40       13873.96                                 0.0   \n",
      "4           100623.91       15592.09                                 0.0   \n",
      "...               ...            ...                                 ...   \n",
      "2995         90748.88       11481.81                                 0.0   \n",
      "2996        101930.98       15242.30                                 0.0   \n",
      "2997         74738.73       12175.49                                 0.0   \n",
      "2998        120357.58       14477.70                                 0.0   \n",
      "2999         74240.17       11873.45                                 0.0   \n",
      "\n",
      "      non_mtg_acc_past_due_6_months_num  mortgages_past_due_6_months_num  \\\n",
      "0                                   0.0                              0.0   \n",
      "1                                   0.0                              0.0   \n",
      "2                                   0.0                              0.0   \n",
      "3                                   0.0                              0.0   \n",
      "4                                   0.0                              0.0   \n",
      "...                                 ...                              ...   \n",
      "2995                                0.0                              0.0   \n",
      "2996                                0.0                              0.0   \n",
      "2997                                0.0                              0.0   \n",
      "2998                                0.0                              0.0   \n",
      "2999                                0.0                              0.0   \n",
      "\n",
      "      credit_past_due_amount  inq_12_month_num  card_inq_24_month_num  \\\n",
      "0                        0.0               0.0                    0.0   \n",
      "1                        0.0               4.0                    7.0   \n",
      "2                        0.0               2.0                    3.0   \n",
      "3                        0.0               1.0                    1.0   \n",
      "4                        0.0               6.0                    9.0   \n",
      "...                      ...               ...                    ...   \n",
      "2995                     0.0               0.0                    0.0   \n",
      "2996                     0.0               2.0                    0.0   \n",
      "2997                     0.0               2.0                    4.0   \n",
      "2998                     0.0               2.0                    2.0   \n",
      "2999                     0.0               4.0                    7.0   \n",
      "\n",
      "      card_open_36_month_num  auto_open_ 36_month_num  ...  \\\n",
      "0                        0.0                      0.0  ...   \n",
      "1                        0.0                      1.0  ...   \n",
      "2                        0.0                      0.0  ...   \n",
      "3                        0.0                      0.0  ...   \n",
      "4                        0.0                      0.0  ...   \n",
      "...                      ...                      ...  ...   \n",
      "2995                     0.0                      1.0  ...   \n",
      "2996                     0.0                      1.0  ...   \n",
      "2997                     0.0                      0.0  ...   \n",
      "2998                     0.0                      1.0  ...   \n",
      "2999                     1.0                      1.0  ...   \n",
      "\n",
      "      uti_card_50plus_pct  ind_acc_XYZ  AL  FL  GA  LA  MS  NC  SC  \\\n",
      "0                0.530109          0.0   0   1   0   0   0   0   0   \n",
      "1                0.388792          0.0   0   0   0   0   1   0   0   \n",
      "2                0.450523          0.0   0   0   0   0   1   0   0   \n",
      "3                0.562153          0.0   0   0   0   0   1   0   0   \n",
      "4                0.576409          1.0   0   0   0   0   0   1   0   \n",
      "...                   ...          ...  ..  ..  ..  ..  ..  ..  ..   \n",
      "2995             0.559056          0.0   0   1   0   0   0   0   0   \n",
      "2996             0.564803          0.0   1   0   0   0   0   0   0   \n",
      "2997             0.651801          0.0   0   0   0   1   0   0   0   \n",
      "2998             0.557991          1.0   0   0   0   0   0   1   0   \n",
      "2999             0.736850          0.0   0   0   0   0   1   0   0   \n",
      "\n",
      "      Default_ind  \n",
      "0             1.0  \n",
      "1             0.0  \n",
      "2             0.0  \n",
      "3             0.0  \n",
      "4             0.0  \n",
      "...           ...  \n",
      "2995          0.0  \n",
      "2996          0.0  \n",
      "2997          0.0  \n",
      "2998          0.0  \n",
      "2999          0.0  \n",
      "\n",
      "[3000 rows x 23 columns]>\n",
      "(3000, 23)\n",
      "tot_credit_debt                       float64\n",
      "avg_card_debt                         float64\n",
      "non_mtg_acc_past_due_12_months_num    float64\n",
      "non_mtg_acc_past_due_6_months_num     float64\n",
      "mortgages_past_due_6_months_num       float64\n",
      "credit_past_due_amount                float64\n",
      "inq_12_month_num                      float64\n",
      "card_inq_24_month_num                 float64\n",
      "card_open_36_month_num                float64\n",
      "auto_open_ 36_month_num               float64\n",
      "uti_card                              float64\n",
      "uti_50plus_pct                        float64\n",
      "uti_max_credit_line                   float64\n",
      "uti_card_50plus_pct                   float64\n",
      "ind_acc_XYZ                           float64\n",
      "AL                                      uint8\n",
      "FL                                      uint8\n",
      "GA                                      uint8\n",
      "LA                                      uint8\n",
      "MS                                      uint8\n",
      "NC                                      uint8\n",
      "SC                                      uint8\n",
      "Default_ind                           float64\n",
      "dtype: object\n"
     ]
    }
   ],
   "source": [
    "print(imputed_df_validation.sample)\n",
    "print(imputed_df_validation.shape)\n",
    "print(imputed_df_validation.dtypes)"
   ]
  },
  {
   "cell_type": "markdown",
   "metadata": {},
   "source": [
    "We will now perform hyperparamter tuning using our validation data set (2a). \\\n",
    "\\\n",
    "The parameters we have chosen are:\n",
    "- Number of estimators: 10, 100, 1000\n",
    "- Max features: square root, log base 2"
   ]
  },
  {
   "cell_type": "code",
   "execution_count": 90,
   "metadata": {},
   "outputs": [
    {
     "name": "stdout",
     "output_type": "stream",
     "text": [
      "Best: 0.941111 using {'max_features': 'log2', 'n_estimators': 100}\n",
      "0.936222 (0.009574) with: {'max_features': 'sqrt', 'n_estimators': 10}\n",
      "0.940667 (0.010306) with: {'max_features': 'sqrt', 'n_estimators': 100}\n",
      "0.940556 (0.009929) with: {'max_features': 'sqrt', 'n_estimators': 1000}\n",
      "0.937778 (0.009480) with: {'max_features': 'log2', 'n_estimators': 10}\n",
      "0.941111 (0.010830) with: {'max_features': 'log2', 'n_estimators': 100}\n",
      "0.940444 (0.010532) with: {'max_features': 'log2', 'n_estimators': 1000}\n"
     ]
    }
   ],
   "source": [
    "model = RandomForestClassifier()\n",
    "n_estimators = [10, 100, 1000]\n",
    "max_features = ['sqrt', 'log2']\n",
    "grid = dict(n_estimators=n_estimators,max_features=max_features)\n",
    "cv = RepeatedStratifiedKFold(n_splits=10, n_repeats=3, random_state=1)\n",
    "grid_search = GridSearchCV(estimator=model, param_grid=grid, n_jobs=-1, cv=cv, scoring='accuracy',error_score=0)\n",
    "grid_result = grid_search.fit(imputed_df_validation.iloc[:,range(0,22)], imputed_df_validation.iloc[:,22])\n",
    "print(\"Best: %f using %s\" % (grid_result.best_score_, grid_result.best_params_))\n",
    "means = grid_result.cv_results_['mean_test_score']\n",
    "stds = grid_result.cv_results_['std_test_score']\n",
    "params = grid_result.cv_results_['params']\n",
    "for mean, stdev, param in zip(means, stds, params):\n",
    "    print(\"%f (%f) with: %r\" % (mean, stdev, param))"
   ]
  },
  {
   "cell_type": "markdown",
   "metadata": {},
   "source": [
    "Based on this, the most accurate model has the following hyperparameters:\n",
    "- Number of estimators: 100\n",
    "- Max features: log base 2"
   ]
  },
  {
   "cell_type": "markdown",
   "metadata": {},
   "source": [
    "Train model based on chosen hyperparameters using the train data set:"
   ]
  },
  {
   "cell_type": "code",
   "execution_count": 153,
   "metadata": {},
   "outputs": [],
   "source": [
    "rfModel = RandomForestClassifier(max_features=\"log2\",n_estimators=100)\n",
    "rfModel = rfModel.fit(imputed_df_train.iloc[:,range(0,22)], imputed_df_train.iloc[:,22])"
   ]
  },
  {
   "cell_type": "markdown",
   "metadata": {},
   "source": [
    "Transforming test data to match training data:"
   ]
  },
  {
   "cell_type": "code",
   "execution_count": 154,
   "metadata": {},
   "outputs": [],
   "source": [
    "df_test = df_test.drop(columns=[\"credit_age\", \"credit_good_age\", \"card_age\",\"rep_income\"])\n",
    "dummies = pd.get_dummies(df_test['States'])\n",
    "default_ind = df_test['Default_ind']\n",
    "df_test = df_test.drop(columns=['States', 'Default_ind'])\n",
    "df_test = df_test.join(dummies)\n",
    "df_test = df_test.join(default_ind)\n",
    "imputed_df_test = imputer.fit_transform(df_test)"
   ]
  },
  {
   "cell_type": "markdown",
   "metadata": {},
   "source": [
    "Check data:"
   ]
  },
  {
   "cell_type": "code",
   "execution_count": 155,
   "metadata": {},
   "outputs": [
    {
     "name": "stdout",
     "output_type": "stream",
     "text": [
      "<bound method NDFrame.sample of       tot_credit_debt  avg_card_debt  non_mtg_acc_past_due_12_months_num  \\\n",
      "0            40477.81        7766.64                                 0.0   \n",
      "1           106760.98       16606.98                                 0.0   \n",
      "2           121428.34       13910.13                                 0.0   \n",
      "3            96515.05       15436.78                                 0.0   \n",
      "4           123760.22       14213.25                                 0.0   \n",
      "...               ...            ...                                 ...   \n",
      "4995         90788.44       11646.36                                 0.0   \n",
      "4996         91052.81       16505.20                                 0.0   \n",
      "4997         71061.71       11512.18                                 0.0   \n",
      "4998         82162.45       10014.90                                 0.0   \n",
      "4999        116943.32       18042.56                                 0.0   \n",
      "\n",
      "      non_mtg_acc_past_due_6_months_num  mortgages_past_due_6_months_num  \\\n",
      "0                                   0.0                              0.0   \n",
      "1                                   0.0                              0.0   \n",
      "2                                   0.0                              0.0   \n",
      "3                                   0.0                              0.0   \n",
      "4                                   0.0                              0.0   \n",
      "...                                 ...                              ...   \n",
      "4995                                0.0                              0.0   \n",
      "4996                                0.0                              0.0   \n",
      "4997                                0.0                              0.0   \n",
      "4998                                0.0                              0.0   \n",
      "4999                                0.0                              0.0   \n",
      "\n",
      "      credit_past_due_amount  inq_12_month_num  card_inq_24_month_num  \\\n",
      "0                        0.0               2.0                    4.0   \n",
      "1                        0.0               2.0                    4.0   \n",
      "2                        0.0               0.0                    1.0   \n",
      "3                        0.0               0.0                    0.0   \n",
      "4                        0.0               0.0                    0.0   \n",
      "...                      ...               ...                    ...   \n",
      "4995                     0.0               0.0                    4.0   \n",
      "4996                     0.0               3.0                    5.0   \n",
      "4997                     0.0               3.0                    5.0   \n",
      "4998                     0.0               1.0                    2.0   \n",
      "4999                     0.0               4.0                    8.0   \n",
      "\n",
      "      card_open_36_month_num  auto_open_ 36_month_num  ...  \\\n",
      "0                        0.0                      1.0  ...   \n",
      "1                        0.0                      0.0  ...   \n",
      "2                        0.0                      0.0  ...   \n",
      "3                        0.0                      0.0  ...   \n",
      "4                        0.0                      0.0  ...   \n",
      "...                      ...                      ...  ...   \n",
      "4995                     0.0                      0.0  ...   \n",
      "4996                     0.0                      0.0  ...   \n",
      "4997                     1.0                      1.0  ...   \n",
      "4998                     0.0                      0.0  ...   \n",
      "4999                     1.0                      0.0  ...   \n",
      "\n",
      "      uti_card_50plus_pct  ind_acc_XYZ  AL  FL  GA  LA  MS  NC  SC  \\\n",
      "0                0.633699          0.0   0   1   0   0   0   0   0   \n",
      "1                0.746901          1.0   1   0   0   0   0   0   0   \n",
      "2                0.458438          0.0   0   0   0   0   1   0   0   \n",
      "3                0.582352          1.0   1   0   0   0   0   0   0   \n",
      "4                0.577697          0.0   0   0   1   0   0   0   0   \n",
      "...                   ...          ...  ..  ..  ..  ..  ..  ..  ..   \n",
      "4995             0.398411          0.0   0   0   0   1   0   0   0   \n",
      "4996             0.286623          1.0   0   0   0   0   0   0   1   \n",
      "4997             0.443688          1.0   0   0   0   1   0   0   0   \n",
      "4998             0.178131          0.0   0   0   0   0   1   0   0   \n",
      "4999             0.503552          0.0   0   0   0   0   1   0   0   \n",
      "\n",
      "      Default_ind  \n",
      "0             0.0  \n",
      "1             0.0  \n",
      "2             0.0  \n",
      "3             0.0  \n",
      "4             0.0  \n",
      "...           ...  \n",
      "4995          0.0  \n",
      "4996          0.0  \n",
      "4997          0.0  \n",
      "4998          0.0  \n",
      "4999          0.0  \n",
      "\n",
      "[5000 rows x 23 columns]>\n",
      "(5000, 23)\n",
      "tot_credit_debt                       float64\n",
      "avg_card_debt                         float64\n",
      "non_mtg_acc_past_due_12_months_num    float64\n",
      "non_mtg_acc_past_due_6_months_num     float64\n",
      "mortgages_past_due_6_months_num       float64\n",
      "credit_past_due_amount                float64\n",
      "inq_12_month_num                      float64\n",
      "card_inq_24_month_num                 float64\n",
      "card_open_36_month_num                float64\n",
      "auto_open_ 36_month_num               float64\n",
      "uti_card                              float64\n",
      "uti_50plus_pct                        float64\n",
      "uti_max_credit_line                   float64\n",
      "uti_card_50plus_pct                   float64\n",
      "ind_acc_XYZ                           float64\n",
      "AL                                      uint8\n",
      "FL                                      uint8\n",
      "GA                                      uint8\n",
      "LA                                      uint8\n",
      "MS                                      uint8\n",
      "NC                                      uint8\n",
      "SC                                      uint8\n",
      "Default_ind                           float64\n",
      "dtype: object\n"
     ]
    }
   ],
   "source": [
    "print(imputed_df_test.sample)\n",
    "print(imputed_df_test.shape)\n",
    "print(imputed_df_test.dtypes)"
   ]
  },
  {
   "cell_type": "markdown",
   "metadata": {
    "id": "ipi2vNONOcym"
   },
   "source": [
    "Scoring test data:"
   ]
  },
  {
   "cell_type": "code",
   "execution_count": 156,
   "metadata": {
    "colab": {
     "base_uri": "https://localhost:8080/"
    },
    "id": "PyDFi1NcOh9I",
    "outputId": "0b1510dd-6434-413c-c761-a5c329cf2010"
   },
   "outputs": [
    {
     "data": {
      "text/plain": [
       "0.9366"
      ]
     },
     "execution_count": 156,
     "metadata": {},
     "output_type": "execute_result"
    }
   ],
   "source": [
    "rfModel.score(imputed_df_test.iloc[:,range(0,22)], imputed_df_test.iloc[:,22])"
   ]
  },
  {
   "cell_type": "markdown",
   "metadata": {
    "id": "PWBYp9Z4ZtGE"
   },
   "source": [
    "Testing with a confusion matrix:"
   ]
  },
  {
   "cell_type": "code",
   "execution_count": 157,
   "metadata": {
    "colab": {
     "base_uri": "https://localhost:8080/"
    },
    "id": "9jnHO0w7ZqDc",
    "outputId": "e80a1a2d-de0f-44f1-81c1-a370c4900587"
   },
   "outputs": [
    {
     "data": {
      "text/plain": [
       "array([[4568,   31],\n",
       "       [ 286,  115]], dtype=int64)"
      ]
     },
     "execution_count": 157,
     "metadata": {},
     "output_type": "execute_result"
    }
   ],
   "source": [
    "confusion_matrix(imputed_df_test.iloc[:,22],rfModel.predict(imputed_df_test.iloc[:,range(0,22)]))"
   ]
  },
  {
   "cell_type": "markdown",
   "metadata": {},
   "source": [
    "ROC curve for random forest classifier (2b):"
   ]
  },
  {
   "cell_type": "code",
   "execution_count": 158,
   "metadata": {},
   "outputs": [
    {
     "data": {
      "image/png": "[encoded data removed]",
      "text/plain": [
       "<Figure size 432x288 with 1 Axes>"
      ]
     },
     "metadata": {
      "needs_background": "light"
     },
     "output_type": "display_data"
    }
   ],
   "source": [
    "rf_probs = rfModel.predict_proba(imputed_df_test.iloc[:,range(0,22)])\n",
    "rf_probs = rf_probs[:, 1]\n",
    "rf_fpr, rf_tpr, _ = roc_curve(imputed_df_test.iloc[:,22], rf_probs)\n",
    "plt.plot(rf_fpr, rf_tpr, marker='.', label='Random Forest Classifier')\n",
    "plt.xlabel('False Positive Rate')\n",
    "plt.ylabel('True Positive Rate')\n",
    "plt.legend()\n",
    "plt.show()"
   ]
  },
  {
   "cell_type": "markdown",
   "metadata": {},
   "source": [
    "Find feature importance (2c): \\\n",
    "\\\n",
    "The higher the score, the more important the feature. \\\n",
    "\\\n",
    "Important Notes: \n",
    "- Despite not presenting much correlation with response variable, total credit debt and average card debt play the most important roles in determining defaults\n",
    "- Utilization variables are all very important\n",
    "- State, XYZ previous account indicator, and credit products opened in 36 months variables play a marginal role"
   ]
  },
  {
   "cell_type": "code",
   "execution_count": 182,
   "metadata": {},
   "outputs": [
    {
     "name": "stdout",
     "output_type": "stream",
     "text": [
      "Feature: tot_credit_debt\n",
      " Score: 0.10116110103522905\n",
      "\n",
      "\n",
      "Feature: avg_card_debt\n",
      " Score: 0.15612549704029433\n",
      "\n",
      "\n",
      "Feature: non_mtg_acc_past_due_12_months_num\n",
      " Score: 0.051588433741830204\n",
      "\n",
      "\n",
      "Feature: non_mtg_acc_past_due_6_months_num\n",
      " Score: 0.026114066030776564\n",
      "\n",
      "\n",
      "Feature: mortgages_past_due_6_months_num\n",
      " Score: 0.04471094287968974\n",
      "\n",
      "\n",
      "Feature: credit_past_due_amount\n",
      " Score: 0.07272974478355873\n",
      "\n",
      "\n",
      "Feature: inq_12_month_num\n",
      " Score: 0.040155479644069965\n",
      "\n",
      "\n",
      "Feature: card_inq_24_month_num\n",
      " Score: 0.0476335411984235\n",
      "\n",
      "\n",
      "Feature: card_open_36_month_num\n",
      " Score: 0.012521132722843388\n",
      "\n",
      "\n",
      "Feature: auto_open_ 36_month_num\n",
      " Score: 0.009328620784239058\n",
      "\n",
      "\n",
      "Feature: uti_card\n",
      " Score: 0.10270683546384929\n",
      "\n",
      "\n",
      "Feature: uti_50plus_pct\n",
      " Score: 0.08696333953190324\n",
      "\n",
      "\n",
      "Feature: uti_max_credit_line\n",
      " Score: 0.09047046122791504\n",
      "\n",
      "\n",
      "Feature: uti_card_50plus_pct\n",
      " Score: 0.08913573380667056\n",
      "\n",
      "\n",
      "Feature: ind_acc_XYZ\n",
      " Score: 0.011392454240505133\n",
      "\n",
      "\n",
      "Feature: AL\n",
      " Score: 0.008526349581013072\n",
      "\n",
      "\n",
      "Feature: FL\n",
      " Score: 0.00890519489911215\n",
      "\n",
      "\n",
      "Feature: GA\n",
      " Score: 0.007348783410222652\n",
      "\n",
      "\n",
      "Feature: LA\n",
      " Score: 0.008199211337674586\n",
      "\n",
      "\n",
      "Feature: MS\n",
      " Score: 0.008037655223021628\n",
      "\n",
      "\n",
      "Feature: NC\n",
      " Score: 0.008202140317150004\n",
      "\n",
      "\n",
      "Feature: SC\n",
      " Score: 0.008043281100008147\n",
      "\n",
      "\n"
     ]
    },
    {
     "data": {
      "image/png": "[encoded data removed]",
      "text/plain": [
       "<Figure size 432x288 with 1 Axes>"
      ]
     },
     "metadata": {
      "needs_background": "light"
     },
     "output_type": "display_data"
    }
   ],
   "source": [
    "variables = []\n",
    "for var in imputed_df_train.columns:\n",
    "    variables.append(var)\n",
    "importance = rfModel.feature_importances_\n",
    "index = 0\n",
    "for i,v in enumerate(importance):\n",
    "    print('Feature: {variable}\\n Score: {v}\\n\\n'.format(variable = variables[index],v = v))\n",
    "    index += 1\n",
    "plt.bar([x for x in range(len(importance))], importance)\n",
    "plt.show()"
   ]
  },
  {
   "cell_type": "markdown",
   "metadata": {
    "id": "r5IsT-YnVF1v"
   },
   "source": [
    "#  **Comparing Models** <a name=\"sect6\"></a>"
   ]
  },
  {
   "cell_type": "markdown",
   "metadata": {},
   "source": [
    "Comparing ROC curves and AUC (2b): \\\n",
    "\\\n",
    "Random forest performs better, as expected, because the true positive rate was better. This is confirmed by the AUC calculation as well."
   ]
  },
  {
   "cell_type": "code",
   "execution_count": 229,
   "metadata": {},
   "outputs": [
    {
     "data": {
      "image/png": "[encoded data removed]",
      "text/plain": [
       "<Figure size 864x720 with 1 Axes>"
      ]
     },
     "metadata": {
      "needs_background": "light"
     },
     "output_type": "display_data"
    }
   ],
   "source": [
    "fig, ax = plt.subplots(figsize=(12,10))\n",
    "plt.plot(rf_fpr, rf_tpr, marker='.', label='Random Forest Classifier')\n",
    "plt.plot(lr_fpr, lr_tpr, marker='.', label='Logistic Regression Classifier')\n",
    "plt.xlabel('False Positive Rate')\n",
    "plt.ylabel('True Positive Rate')\n",
    "plt.legend()\n",
    "plt.show()"
   ]
  },
  {
   "cell_type": "code",
   "execution_count": 136,
   "metadata": {},
   "outputs": [
    {
     "name": "stdout",
     "output_type": "stream",
     "text": [
      "Logistic Regression: ROC AUC=0.806\n",
      "Random Forest: ROC AUC=0.852\n"
     ]
    }
   ],
   "source": [
    "lr_auc = roc_auc_score(df_test_norm.iloc[:,16], lr_probs)\n",
    "rf_auc = roc_auc_score(imputed_df_test.iloc[:,22], rf_probs)\n",
    "print('Logistic Regression: ROC AUC=%.3f' % (lr_auc))\n",
    "print('Random Forest: ROC AUC=%.3f' % (rf_auc))"
   ]
  },
  {
   "cell_type": "markdown",
   "metadata": {},
   "source": [
    "Comparing Learning curves (3):\n",
    "- While the training score for the random forest model is very high (a natural consequence of an algorithm that is extremely robust), the cross validation scores are very comperable throughout\n",
    "- Unsurpisingly, logistic regression is found to be much more scalable\n",
    "- Model performence is slightly higher for random forest model"
   ]
  },
  {
   "cell_type": "code",
   "execution_count": 161,
   "metadata": {},
   "outputs": [
    {
     "data": {
      "image/png": "[encoded data removed]",
      "text/plain": [
       "<Figure size 720x1080 with 6 Axes>"
      ]
     },
     "metadata": {
      "needs_background": "light"
     },
     "output_type": "display_data"
    }
   ],
   "source": [
    "def plot_learning_curve(estimator, title, X, y, axes=None, ylim=None, cv=None,\n",
    "                        n_jobs=None, train_sizes=np.linspace(.1, 1.0, 5)):\n",
    "    if axes is None:\n",
    "        _, axes = plt.subplots(1, 3, figsize=(20, 5))\n",
    "\n",
    "    axes[0].set_title(title)\n",
    "    if ylim is not None:\n",
    "        axes[0].set_ylim(*ylim)\n",
    "    axes[0].set_xlabel(\"Training examples\")\n",
    "    axes[0].set_ylabel(\"Score\")\n",
    "\n",
    "    train_sizes, train_scores, test_scores, fit_times, _ = \\\n",
    "        learning_curve(estimator, X, y, cv=cv, n_jobs=n_jobs,\n",
    "                       train_sizes=train_sizes,\n",
    "                       return_times=True)\n",
    "    train_scores_mean = np.mean(train_scores, axis=1)\n",
    "    train_scores_std = np.std(train_scores, axis=1)\n",
    "    test_scores_mean = np.mean(test_scores, axis=1)\n",
    "    test_scores_std = np.std(test_scores, axis=1)\n",
    "    fit_times_mean = np.mean(fit_times, axis=1)\n",
    "    fit_times_std = np.std(fit_times, axis=1)\n",
    "\n",
    "    axes[0].grid()\n",
    "    axes[0].fill_between(train_sizes, train_scores_mean - train_scores_std,\n",
    "                         train_scores_mean + train_scores_std, alpha=0.1,\n",
    "                         color=\"r\")\n",
    "    axes[0].fill_between(train_sizes, test_scores_mean - test_scores_std,\n",
    "                         test_scores_mean + test_scores_std, alpha=0.1,\n",
    "                         color=\"g\")\n",
    "    axes[0].plot(train_sizes, train_scores_mean, 'o-', color=\"r\",\n",
    "                 label=\"Training score\")\n",
    "    axes[0].plot(train_sizes, test_scores_mean, 'o-', color=\"g\",\n",
    "                 label=\"Cross-validation score\")\n",
    "    axes[0].legend(loc=\"best\")\n",
    "\n",
    "    axes[1].grid()\n",
    "    axes[1].plot(train_sizes, fit_times_mean, 'o-')\n",
    "    axes[1].fill_between(train_sizes, fit_times_mean - fit_times_std,\n",
    "                         fit_times_mean + fit_times_std, alpha=0.1)\n",
    "    axes[1].set_xlabel(\"Training examples\")\n",
    "    axes[1].set_ylabel(\"fit_times\")\n",
    "    axes[1].set_title(\"Scalability of the model\")\n",
    "\n",
    "    axes[2].grid()\n",
    "    axes[2].plot(fit_times_mean, test_scores_mean, 'o-')\n",
    "    axes[2].fill_between(fit_times_mean, test_scores_mean - test_scores_std,\n",
    "                         test_scores_mean + test_scores_std, alpha=0.1)\n",
    "    axes[2].set_xlabel(\"fit_times\")\n",
    "    axes[2].set_ylabel(\"Score\")\n",
    "    axes[2].set_title(\"Performance of the model\")\n",
    "\n",
    "    return plt\n",
    "\n",
    "\n",
    "fig, axes = plt.subplots(3, 2, figsize=(10, 15))\n",
    "\n",
    "X, y = df_train_norm.iloc[:,range(0,16)], df_train_norm.iloc[:,16]\n",
    "title = \"Learning Curves (Logistic Regression)\"\n",
    "cv = ShuffleSplit(n_splits=100, test_size=0.2, random_state=0)\n",
    "\n",
    "plot_learning_curve(lrModel, title, X, y, axes=axes[:, 0], ylim=(0.7, 1.01),\n",
    "                    cv=cv, n_jobs=4)\n",
    "\n",
    "X, y = imputed_df_train.iloc[:,range(0,22)], imputed_df_train.iloc[:,22]\n",
    "title = \"Learning Curves (Random Forest)\"\n",
    "cv = ShuffleSplit(n_splits=50, test_size=0.2, random_state=0)\n",
    "plot_learning_curve(rfModel, title, X, y, axes=axes[:, 1], ylim=(0.7, 1.01),\n",
    "                    cv=cv, n_jobs=4)\n",
    "\n",
    "plt.show()"
   ]
  },
  {
   "cell_type": "markdown",
   "metadata": {
    "id": "r5IsT-YnVF1v"
   },
   "source": [
    "#  **Code References** <a name=\"sect7\"></a>\n",
    "*Thank you to the following:* \\\n",
    "(1) Aniruddha Bhandari: \\\n",
    "[What is Multicollinearity? Here’s Everything You Need to Know](https://www.analyticsvidhya.com/blog/2020/03/what-is-multicollinearity/) \\\n",
    "(2) Jason Brownlee, PhD of Machine Learning Mastery: \\\n",
    "a. [Tune Hyperparameters for Classification Machine Learning Algorithms](https://machinelearningmastery.com/hyperparameters-for-classification-machine-learning-algorithms/) \\\n",
    "b. [How to Use ROC Curves and Precision-Recall Curves for Classification in Python](https://machinelearningmastery.com/roc-curves-and-precision-recall-curves-for-classification-in-python/) \\\n",
    "c. [How to Calculate Feature Importance With Python](https://machinelearningmastery.com/calculate-feature-importance-with-python/) \\\n",
    "(3) SKLearn: \\\n",
    "[Plotting Learning Curves](https://scikit-learn.org/stable/auto_examples/model_selection/plot_learning_curve.html)"
   ]
  }
 ],
 "metadata": {
  "colab": {
   "collapsed_sections": [],
   "name": "Finalized_Notebook.ipynb",
   "provenance": [],
   "toc_visible": true
  },
  "kernelspec": {
   "display_name": "Python 3",
   "language": "python",
   "name": "python3"
  },
  "language_info": {
   "codemirror_mode": {
    "name": "ipython",
    "version": 3
   },
   "file_extension": ".py",
   "mimetype": "text/x-python",
   "name": "python",
   "nbconvert_exporter": "python",
   "pygments_lexer": "ipython3",
   "version": "3.8.5"
  }
 },
 "nbformat": 4,
 "nbformat_minor": 1
}
